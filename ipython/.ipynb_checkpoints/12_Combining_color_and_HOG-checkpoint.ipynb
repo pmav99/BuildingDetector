{
 "cells": [
  {
   "cell_type": "markdown",
   "metadata": {},
   "source": [
    "# Combining Color Histograms and HOG\n",
    "In this notebook, I'll try out some different strategies for combining color histogram and HOG features for classification. There are several options for combining the two, including combining the feature vectors into one or having two steps in the classification process.\n",
    "\n",
    "Before getting into that, I'll follow Kevin's suggestion and try clustering my roof samples to see if there are clear boundaries between different subclasses of roofs. If there are, then maybe I should have different classifiers to identify each subclass."
   ]
  },
  {
   "cell_type": "code",
   "execution_count": 22,
   "metadata": {
    "collapsed": false
   },
   "outputs": [],
   "source": [
    "from utils import *\n",
    "from features import *\n",
    "import numpy as np\n",
    "import pandas as pd\n",
    "import matplotlib.pyplot as plt\n",
    "from time import time\n",
    "from sklearn import decomposition\n",
    "\n",
    "%matplotlib inline"
   ]
  },
  {
   "cell_type": "code",
   "execution_count": 2,
   "metadata": {
    "collapsed": true
   },
   "outputs": [],
   "source": [
    "# Import image data\n",
    "csv_in = '../data/imageData.csv'\n",
    "hists, labels, le = import_image_data(csv_in)"
   ]
  },
  {
   "cell_type": "code",
   "execution_count": 3,
   "metadata": {
    "collapsed": false
   },
   "outputs": [],
   "source": [
    "# Get only roof data\n",
    "indices = np.where(labels==1)\n",
    "hists = hists[indices[0],:]\n",
    "labels = labels[indices[0]]"
   ]
  },
  {
   "cell_type": "code",
   "execution_count": 4,
   "metadata": {
    "collapsed": true
   },
   "outputs": [],
   "source": [
    "# Calculate the 1st 2 PCA components\n",
    "pca = decomposition.PCA(n_components=2)\n",
    "pca.fit(hists)\n",
    "X = pca.transform(hists)"
   ]
  },
  {
   "cell_type": "code",
   "execution_count": 5,
   "metadata": {
    "collapsed": false
   },
   "outputs": [
    {
     "data": {
      "image/png": "[encoded data removed]",
      "text/plain": [
       "<matplotlib.figure.Figure at 0x7faa2cd230d0>"
      ]
     },
     "metadata": {},
     "output_type": "display_data"
    }
   ],
   "source": [
    "# Plot PCA decomposition of roof samples only\n",
    "plt.figure()\n",
    "plt.scatter(X[:,0], X[:,1])\n",
    "plt.title('PCA of roof sample color histograms')\n",
    "plt.xlabel('1st component')\n",
    "plt.ylabel('2nd component')\n",
    "plt.show()"
   ]
  },
  {
   "cell_type": "markdown",
   "metadata": {},
   "source": [
    "There doesn't seem to be a real obvious way to cluster the roofs in our sample training set - let's come back to this later."
   ]
  },
  {
   "cell_type": "markdown",
   "metadata": {},
   "source": [
    "## Saving training data\n",
    "The first thing that we need to do is compute color histograms, HOG features, and gradient magnitude histograms and store them in a pandas dataframe to be written to csv. I'd like to automate this processs so that I can just give the function a directory containing all of my training samples and it'll figure out which classes are there by looking at the names of the folders."
   ]
  },
  {
   "cell_type": "code",
   "execution_count": 6,
   "metadata": {
    "collapsed": true
   },
   "outputs": [],
   "source": [
    "import glob\n",
    "import os"
   ]
  },
  {
   "cell_type": "code",
   "execution_count": 9,
   "metadata": {
    "collapsed": true
   },
   "outputs": [],
   "source": [
    "sample_dir = '../images/samples/'\n",
    "csv_out = '../data/all_image_data.csv'"
   ]
  },
  {
   "cell_type": "code",
   "execution_count": 30,
   "metadata": {
    "collapsed": true
   },
   "outputs": [],
   "source": [
    "# Setting column names of dataframe\n",
    "columns = ['class', 'imageID', 'filename', 'width', 'height']\n",
    "columns = columns + ['color' + str(i + 1) for i in range(48)]\n",
    "columns = columns + ['hog' + str(i + 1) for i in range(9)]\n",
    "columns = columns + ['mag' + str(i + 1) for i in range(16)]"
   ]
  },
  {
   "cell_type": "code",
   "execution_count": 31,
   "metadata": {
    "collapsed": true
   },
   "outputs": [],
   "source": [
    "# Create data frame for image data\n",
    "image_data = pd.DataFrame(columns=columns)"
   ]
  },
  {
   "cell_type": "code",
   "execution_count": 32,
   "metadata": {
    "collapsed": false
   },
   "outputs": [
    {
     "name": "stdout",
     "output_type": "stream",
     "text": [
      "../images/samples/roofs\n",
      "Processed 70 images for roofs class.\n",
      "../images/samples/water\n",
      "Processed 70 images for water class.\n",
      "../images/samples/vegetation\n",
      "Processed 70 images for vegetation class.\n",
      "../images/samples/dirt\n",
      "Processed 70 images for dirt class.\n",
      "Processed 280 images total in 34.754201889 seconds.\n"
     ]
    }
   ],
   "source": [
    "# Keep track of total images processed\n",
    "count_total = 0\n",
    "start_time = time()\n",
    "# Search sample directory for all sample class subdirectories\n",
    "for class_dir in glob.iglob(sample_dir + '*'):\n",
    "    # Get class name\n",
    "    class_name = os.path.basename(class_dir)\n",
    "    # Add data for each image in class subdirectory\n",
    "    count_class = 0\n",
    "    for image_path in glob.iglob(class_dir + '/*.png'):\n",
    "        # Get image basename with extension\n",
    "        image_fn = os.path.basename(image_path)\n",
    "        # Get image ID\n",
    "        imageID = image_fn[:-4]\n",
    "        # Read in image and get dimensions\n",
    "        image = cv2.imread(image_path)\n",
    "        h, w = image.shape[:2]\n",
    "        # Calculate color histogram\n",
    "        color = calc_color_hist(image)\n",
    "        color = np.transpose(color)\n",
    "        # Create color histogram dataframe\n",
    "        color_df = pd.DataFrame(color)\n",
    "        col_names = list(color_df.columns.values)\n",
    "        new_names = ['color' + str(i + 1) for i in col_names]\n",
    "        color_df.columns = new_names\n",
    "        # Calculate hog and gradient magnitude features\n",
    "        (hog, hog_bins, mag, mag_bins, max_mag) = compute_hog(image)\n",
    "        hog = hog.reshape(1, hog.size)\n",
    "        mag = mag.reshape(1, mag.size)\n",
    "        # Create hog dataframe\n",
    "        hog_df = pd.DataFrame(hog)\n",
    "        col_names = list(hog_df.columns.values)\n",
    "        new_names = ['hog' + str(i + 1) for i in col_names]\n",
    "        hog_df.columns = new_names\n",
    "        # Create gradient magnitude dataframe\n",
    "        mag_df = pd.DataFrame(mag)\n",
    "        col_names = list(mag_df.columns.values)\n",
    "        new_names = ['mag' + str(i + 1) for i in col_names]\n",
    "        mag_df.columns = new_names\n",
    "        # Create dataframe for image\n",
    "        img_data = pd.DataFrame({'class': [class_name], 'imageID':\\\n",
    "                                 [imageID], 'filename': [image_fn],\\\n",
    "                                 'width': [w], 'height': [h]})\n",
    "        img_data = pd.concat([img_data, color_df, hog_df, mag_df],\\\n",
    "                           axis=1)\n",
    "        # Add new image data to image dataframe and continue indexing\n",
    "        image_data = image_data.append(img_data, ignore_index=True)\n",
    "        count_total += 1\n",
    "        count_class += 1\n",
    "    # Print update for class\n",
    "    print 'Processed {} images for {} class.'.format(count_class,\\\n",
    "                                                     class_name)\n",
    "\n",
    "end_time = time()\n",
    "print 'Processed {} images total in {} seconds.'.format(count_total,\\\n",
    "                                            (end_time - start_time))"
   ]
  },
  {
   "cell_type": "code",
   "execution_count": 33,
   "metadata": {
    "collapsed": true
   },
   "outputs": [],
   "source": [
    "# Drop rows with duplicated information\n",
    "image_data.drop_duplicates(['class', 'filename'], inplace=True)\n",
    "# Reorganize columns\n",
    "image_data = image_data[columns]\n",
    "# Writing image data to csv\n",
    "image_data.to_csv(csv_out)"
   ]
  },
  {
   "cell_type": "markdown",
   "metadata": {},
   "source": [
    "Right now it takes ~35 seconds to process 280 training samples. Let's put all of this code into one function so that in the future we can easily recompute image data for all of our training samples:"
   ]
  },
  {
   "cell_type": "code",
   "execution_count": 196,
   "metadata": {
    "collapsed": true
   },
   "outputs": [],
   "source": [
    "import numpy as np\n",
    "import pandas as pd\n",
    "import glob\n",
    "from time import time\n",
    "import matplotlib.pyplot as plt\n",
    "import os"
   ]
  },
  {
   "cell_type": "code",
   "execution_count": 197,
   "metadata": {
    "collapsed": true
   },
   "outputs": [],
   "source": [
    "def process_image(image_path, class_name, image_data):\n",
    "    \"\"\"\n",
    "    This function process one image and adds its data to the dataframe\n",
    "    containing all of the training image data.\n",
    "    :param image_path: Path to image to process\n",
    "    :param class_name: Class of image sample\n",
    "    :param image_data: Dataframe containing training data\n",
    "    :returns: Dataframe containing new image data\n",
    "    \"\"\"\n",
    "    # Get image basename with extension\n",
    "    image_fn = os.path.basename(image_path)\n",
    "    # Get image ID\n",
    "    imageID = image_fn[:-4]\n",
    "    \n",
    "    # Read in image and get dimensions\n",
    "    image = cv2.imread(image_path)\n",
    "    h, w = image.shape[:2]\n",
    "    \n",
    "    # Calculate color histogram\n",
    "    color = calc_color_hist(image)\n",
    "    color = np.transpose(color)\n",
    "    # Create color histogram dataframe\n",
    "    color_df = pd.DataFrame(color)\n",
    "    col_names = list(color_df.columns.values)\n",
    "    new_names = ['color' + str(i + 1) for i in col_names]\n",
    "    color_df.columns = new_names\n",
    "    \n",
    "    # Calculate hog and gradient magnitude features\n",
    "    (hog, hog_bins, mag, mag_bins, max_mag) = compute_hog(image)\n",
    "    hog = hog.reshape(1, hog.size)\n",
    "    mag = mag.reshape(1, mag.size)\n",
    "    # Create hog dataframe\n",
    "    hog_df = pd.DataFrame(hog)\n",
    "    col_names = list(hog_df.columns.values)\n",
    "    new_names = ['hog' + str(i + 1) for i in col_names]\n",
    "    hog_df.columns = new_names\n",
    "    \n",
    "    # Create gradient magnitude dataframe\n",
    "    mag_df = pd.DataFrame(mag)\n",
    "    col_names = list(mag_df.columns.values)\n",
    "    new_names = ['mag' + str(i + 1) for i in col_names]\n",
    "    mag_df.columns = new_names\n",
    "    \n",
    "    # Create dataframe for image\n",
    "    img_data = pd.DataFrame({'class': [class_name], 'imageID':\\\n",
    "                             [imageID], 'filename': [image_fn],\\\n",
    "                             'width': [w], 'height': [h]})\n",
    "    img_data = pd.concat([img_data, color_df, hog_df, mag_df],\\\n",
    "                       axis=1)\n",
    "    \n",
    "    # Add new image data to image dataframe and continue indexing\n",
    "    return image_data.append(img_data, ignore_index=True)"
   ]
  },
  {
   "cell_type": "code",
   "execution_count": 198,
   "metadata": {
    "collapsed": true
   },
   "outputs": [],
   "source": [
    "def store_image_data(image_dir, csv_out):\n",
    "    \"\"\"\n",
    "    This function goes through each of the class sample directories\n",
    "    within the samples directory and computes color histogram and HOG\n",
    "    features for each image within, then writes the data to a csv file\n",
    "    for later use.\n",
    "    :param image_dir: Path to the directory containing image samples\n",
    "    :param csv_out: Path of output csv file containing data\n",
    "    \"\"\"\n",
    "    start_time = time()\n",
    "    \n",
    "    # Setting column names of dataframe\n",
    "    columns = ['class', 'imageID', 'filename', 'width', 'height']\n",
    "    columns = columns + ['color' + str(i + 1) for i in range(48)]\n",
    "    columns = columns + ['hog' + str(i + 1) for i in range(9)]\n",
    "    columns = columns + ['mag' + str(i + 1) for i in range(16)]\n",
    "    \n",
    "    # Create data frame for image data\n",
    "    image_data = pd.DataFrame(columns=columns)\n",
    "    \n",
    "    # Keep track of total images processed\n",
    "    count_total = 0\n",
    "    \n",
    "    # Search sample directory for all sample class subdirectories\n",
    "    for class_dir in glob.iglob(sample_dir + '*'):\n",
    "        # Get class name\n",
    "        class_name = os.path.basename(class_dir)\n",
    "        # Add data for each image in class subdirectory\n",
    "        count_class = 0\n",
    "        for image_path in glob.iglob(class_dir + '/*.png'):\n",
    "            # Add data for each image\n",
    "            image_data = process_image(image_path, class_name,\\\n",
    "                                       image_data)\n",
    "            count_total += 1\n",
    "            count_class += 1\n",
    "        # Print update for class\n",
    "        print 'Processed {} images for {} class.'.format(count_class,\\\n",
    "                                                         class_name)\n",
    "    \n",
    "    # Drop rows with duplicated information\n",
    "    image_data.drop_duplicates(['class', 'filename'], inplace=True)\n",
    "    # Reorganize columns\n",
    "    image_data = image_data[columns]\n",
    "    # Writing image data to csv\n",
    "    image_data.to_csv(csv_out)\n",
    "    end_time = time()\n",
    "    print 'Processed {} images total in {} seconds.'.format(count_total,\\\n",
    "                                                (end_time - start_time))"
   ]
  },
  {
   "cell_type": "markdown",
   "metadata": {},
   "source": [
    "Let's test out the function!"
   ]
  },
  {
   "cell_type": "code",
   "execution_count": 199,
   "metadata": {
    "collapsed": false
   },
   "outputs": [
    {
     "name": "stdout",
     "output_type": "stream",
     "text": [
      "Processed 70 images for roof class.\n",
      "Processed 70 images for water class.\n",
      "Processed 70 images for vegetation class.\n",
      "Processed 70 images for dirt class.\n",
      "Processed 280 images total in 36.5406188965 seconds.\n"
     ]
    }
   ],
   "source": [
    "store_image_data(sample_dir, csv_out)"
   ]
  },
  {
   "cell_type": "markdown",
   "metadata": {},
   "source": [
    "It works!"
   ]
  },
  {
   "cell_type": "markdown",
   "metadata": {
    "collapsed": true
   },
   "source": [
    "### Loading training data\n",
    "We previously wrote a function that would load in the color histogram data for our training samples from a given csv file. Let's update that function so that it works with our more complete dataset that contains color histogram, hog, and gradient magnitude feature vectors."
   ]
  },
  {
   "cell_type": "code",
   "execution_count": 211,
   "metadata": {
    "collapsed": true
   },
   "outputs": [],
   "source": [
    "def import_image_data(csv_in, display=False):\n",
    "    \"\"\"\n",
    "    This function reads image data from a csv file and returns Numpy\n",
    "    arrays containing the image features and the image labels so that\n",
    "    the data is ready for use. It also returns a label encoder so that\n",
    "    we can go back and forth between class string labels and integer\n",
    "    encodings.\n",
    "    :param csv_in: Path of csv file containing image data\n",
    "    :param display: Print out updates\n",
    "    :returns: All features vectors, color histogram vectors, HOG vectors,\n",
    "    gradient magnitude vectors, image labels, and label encoder\n",
    "    \"\"\"\n",
    "    # Loading image data from csv\n",
    "    image_data = pd.read_csv(csv_in)\n",
    "    # Need to convert imageIDs to strings (some get converted to ints)\n",
    "    image_data.imageID = image_data.imageID.astype(str)\n",
    "    # Drop first column\n",
    "    image_data.drop('Unnamed: 0', axis=1, inplace=True)\n",
    "    # Get class labels\n",
    "    labels = image_data.as_matrix(columns=['class'])\n",
    "    # Making 2D array into 1D array\n",
    "    labels = labels.flatten()\n",
    "    # Encode labels with value between 0 and n_classes-1\n",
    "    label_encoder = preprocessing.LabelEncoder()\n",
    "    # dirt = 0, roof = 1, vegetation = 2, water = 3\n",
    "    label_encoder.fit(labels)\n",
    "    if display:\n",
    "        print label_encoder.classes_ # displays the set of classes\n",
    "    labels = label_encoder.transform(labels)\n",
    "    if display:\n",
    "        print 'Got class labels for {} training data points.'.format\\\n",
    "              (labels.shape[0])\n",
    "    # Get color histograms\n",
    "    color_columns = ['color' + str(i+1) for i in range(48)]\n",
    "    colors = image_data.as_matrix(columns=color_columns)\n",
    "    # Get hog vectors\n",
    "    hog_columns = ['hog' + str(i+1) for i in range(9)]\n",
    "    hogs = image_data.as_matrix(columns=hog_columns)\n",
    "    # Get gradient magnitude vectors\n",
    "    mag_columns = ['mag' + str(i+1) for i in range(16)]\n",
    "    mags = image_data.as_matrix(columns=mag_columns)\n",
    "    # Join into all features vectors\n",
    "    all_columns = color_columns + hog_columns + mag_columns\n",
    "    features = image_data.as_matrix(columns=all_columns)\n",
    "    if display:\n",
    "        print 'Got feature vectors for {} training data points.'.format\\\n",
    "              (features.shape[0])\n",
    "    return (features, colors, hogs, mags, labels, label_encoder)"
   ]
  },
  {
   "cell_type": "code",
   "execution_count": 12,
   "metadata": {
    "collapsed": true
   },
   "outputs": [],
   "source": [
    "csv_in = '../data/all_image_data.csv'"
   ]
  },
  {
   "cell_type": "code",
   "execution_count": 212,
   "metadata": {
    "collapsed": false
   },
   "outputs": [
    {
     "name": "stdout",
     "output_type": "stream",
     "text": [
      "['dirt' 'roof' 'vegetation' 'water']\n",
      "Got class labels for 280 training data points.\n",
      "Got feature vectors for 280 training data points.\n"
     ]
    }
   ],
   "source": [
    "features, colors, hogs, mags, labels, label_encoder = \\\n",
    "                import_image_data(csv_in, display=True)"
   ]
  },
  {
   "cell_type": "markdown",
   "metadata": {},
   "source": [
    "### Classification of samples using all features\n",
    "Earlier we had tried classifying our sample images using both color histograms and HOG features separately but not with both. We also have a 3rd feature vector now, the gradient magnitudes histogram. Let's try classifying first using color and hog then with all three."
   ]
  },
  {
   "cell_type": "code",
   "execution_count": 22,
   "metadata": {
    "collapsed": false
   },
   "outputs": [],
   "source": [
    "# Features with both color histograms and hog vector\n",
    "color_hog = np.concatenate((colors, hogs), axis=1)"
   ]
  },
  {
   "cell_type": "markdown",
   "metadata": {},
   "source": [
    "#### PCA"
   ]
  },
  {
   "cell_type": "code",
   "execution_count": 20,
   "metadata": {
    "collapsed": true
   },
   "outputs": [],
   "source": [
    "from sklearn import decomposition"
   ]
  },
  {
   "cell_type": "code",
   "execution_count": 23,
   "metadata": {
    "collapsed": false
   },
   "outputs": [
    {
     "data": {
      "image/png": "[encoded data removed]",
      "text/plain": [
       "<matplotlib.figure.Figure at 0x7faa2cca1d50>"
      ]
     },
     "metadata": {},
     "output_type": "display_data"
    }
   ],
   "source": [
    "# Calculate the 1st 2 PCA components\n",
    "pca = decomposition.PCA(n_components=2)\n",
    "pca.fit(color_hog)\n",
    "X_pca = pca.transform(color_hog)\n",
    "# Plot PCA decomposition with 4 classes \n",
    "plt.figure()\n",
    "colors = ['b', 'g', 'r', 'c', 'm', 'y']\n",
    "for i in range(np.unique(labels).size):\n",
    "    indices = np.where(labels==i)\n",
    "    plt.scatter(X_pca[indices,0], X_pca[indices,1], c=colors[i])\n",
    "plt.legend([label_encoder.inverse_transform(i) for i in\\\n",
    "            range(np.unique(labels).size)], loc='lower left')\n",
    "plt.title('PCA of color histogram + hog features')\n",
    "plt.xlabel('1st component')\n",
    "plt.ylabel('2nd component')\n",
    "plt.show()"
   ]
  },
  {
   "cell_type": "markdown",
   "metadata": {},
   "source": [
    "That looks pretty good! Definitely much better than the hog only PCA and actually very similar to the color histogram PCA. It's possible that the hog features don't add much information here.\n",
    "\n",
    "Let's see if adding in the gradient magnitudes helps:"
   ]
  },
  {
   "cell_type": "code",
   "execution_count": 30,
   "metadata": {
    "collapsed": false
   },
   "outputs": [
    {
     "data": {
      "image/png": "[encoded data removed]",
      "text/plain": [
       "<matplotlib.figure.Figure at 0x7faa2c97f7d0>"
      ]
     },
     "metadata": {},
     "output_type": "display_data"
    }
   ],
   "source": [
    "# Calculate the 1st 2 PCA components\n",
    "pca = decomposition.PCA(n_components=2)\n",
    "pca.fit(features)\n",
    "X_pca = pca.transform(features)\n",
    "# Plot PCA decomposition with 4 classes \n",
    "plt.figure()\n",
    "colors = ['b', 'g', 'r', 'c', 'm', 'y']\n",
    "for i in range(np.unique(labels).size):\n",
    "    indices = np.where(labels==i)\n",
    "    plt.scatter(X_pca[indices,0], X_pca[indices,1], c=colors[i])\n",
    "plt.legend([label_encoder.inverse_transform(i) for i in\\\n",
    "            range(np.unique(labels).size)], loc='upper left')\n",
    "plt.title('PCA of color histogram + hog + gradient features')\n",
    "plt.xlabel('1st component')\n",
    "plt.ylabel('2nd component')\n",
    "plt.show()"
   ]
  },
  {
   "cell_type": "markdown",
   "metadata": {},
   "source": [
    "This seems to be even better! Things are starting to look more promising..."
   ]
  },
  {
   "cell_type": "markdown",
   "metadata": {},
   "source": [
    "#### LDA"
   ]
  },
  {
   "cell_type": "code",
   "execution_count": 26,
   "metadata": {
    "collapsed": true
   },
   "outputs": [],
   "source": [
    "from sklearn import lda"
   ]
  },
  {
   "cell_type": "code",
   "execution_count": 31,
   "metadata": {
    "collapsed": false
   },
   "outputs": [
    {
     "data": {
      "image/png": "[encoded data removed]",
      "text/plain": [
       "<matplotlib.figure.Figure at 0x7faa2c7c17d0>"
      ]
     },
     "metadata": {},
     "output_type": "display_data"
    }
   ],
   "source": [
    "# Projection onto the first 2 linear discriminant components\n",
    "color_hog2 = color_hog.copy()\n",
    "color_hog2.flat[::color_hog2.shape[1] + 1] += 0.01 # Make X invertible\n",
    "X_lda = lda.LDA(n_components=2).fit_transform(color_hog2, labels)\n",
    "# Plot LDA decomposition with 4 classes \n",
    "plt.figure()\n",
    "colors = ['b', 'g', 'r', 'c', 'm', 'y']\n",
    "for i in range(np.unique(labels).size):\n",
    "    indices = np.where(labels==i)\n",
    "    plt.scatter(X_lda[indices,0], X_lda[indices,1], c=colors[i])\n",
    "plt.legend([label_encoder.inverse_transform(i) for i in\\\n",
    "            range(np.unique(labels).size)], loc='lower left')\n",
    "plt.title('LDA of color histogram + hog features')\n",
    "plt.xlabel('1st component')\n",
    "plt.ylabel('2nd component')\n",
    "plt.show()"
   ]
  },
  {
   "cell_type": "markdown",
   "metadata": {},
   "source": [
    "Jeez that looks pretty great, maybe even a little better than the color histogram only LDA. Let's try adding in the gradients."
   ]
  },
  {
   "cell_type": "code",
   "execution_count": 32,
   "metadata": {
    "collapsed": false,
    "scrolled": true
   },
   "outputs": [
    {
     "data": {
      "image/png": "[encoded data removed]",
      "text/plain": [
       "<matplotlib.figure.Figure at 0x7faa2c6aadd0>"
      ]
     },
     "metadata": {},
     "output_type": "display_data"
    }
   ],
   "source": [
    "# Projection onto the first 2 linear discriminant components\n",
    "features2 = features.copy()\n",
    "features2.flat[::features2.shape[1] + 1] += 0.01 # Make X invertible\n",
    "X_lda = lda.LDA(n_components=2).fit_transform(features2, labels)\n",
    "# Plot LDA decomposition with 4 classes \n",
    "plt.figure()\n",
    "colors = ['b', 'g', 'r', 'c', 'm', 'y']\n",
    "for i in range(np.unique(labels).size):\n",
    "    indices = np.where(labels==i)\n",
    "    plt.scatter(X_lda[indices,0], X_lda[indices,1], c=colors[i])\n",
    "plt.legend([label_encoder.inverse_transform(i) for i in\\\n",
    "            range(np.unique(labels).size)], loc='lower left')\n",
    "plt.title('LDA of color histogram + hog + gradient features')\n",
    "plt.xlabel('1st component')\n",
    "plt.ylabel('2nd component')\n",
    "plt.show()"
   ]
  },
  {
   "cell_type": "markdown",
   "metadata": {},
   "source": [
    "#### kNN"
   ]
  },
  {
   "cell_type": "code",
   "execution_count": 33,
   "metadata": {
    "collapsed": true
   },
   "outputs": [],
   "source": [
    "from sklearn import neighbors"
   ]
  },
  {
   "cell_type": "code",
   "execution_count": 58,
   "metadata": {
    "collapsed": true
   },
   "outputs": [],
   "source": [
    "# Mix up the data\n",
    "perm = np.random.permutation(labels.size)\n",
    "features = features[perm]\n",
    "color_hog = color_hog[perm]\n",
    "labels = labels[perm]"
   ]
  },
  {
   "cell_type": "code",
   "execution_count": 61,
   "metadata": {
    "collapsed": false
   },
   "outputs": [
    {
     "name": "stdout",
     "output_type": "stream",
     "text": [
      "Overall classification accuracy: 0.75\n"
     ]
    }
   ],
   "source": [
    "# Create and fit a nearest-neighbor classifier on color histograms and hog\n",
    "n_neighbors = 5\n",
    "knn = neighbors.KNeighborsClassifier(n_neighbors=n_neighbors)\n",
    "# Train on first 200 out of 280 observations\n",
    "knn.fit(color_hog[:200], labels[:200])\n",
    "# Test on observations 201-280\n",
    "accuracy = knn.score(color_hog[200:], labels[200:])\n",
    "print 'Overall classification accuracy: {}'.format(accuracy)"
   ]
  },
  {
   "cell_type": "code",
   "execution_count": 62,
   "metadata": {
    "collapsed": false
   },
   "outputs": [
    {
     "name": "stdout",
     "output_type": "stream",
     "text": [
      "Overall classification accuracy: 0.775\n"
     ]
    }
   ],
   "source": [
    "# Create and fit a nearest-neighbor classifier on all features\n",
    "n_neighbors = 5\n",
    "knn = neighbors.KNeighborsClassifier(n_neighbors=n_neighbors)\n",
    "# Train on first 200 out of 280 observations\n",
    "knn.fit(features[:200], labels[:200])\n",
    "# Test on observations 201-280\n",
    "accuracy = knn.score(features[200:], labels[200:])\n",
    "print 'Overall classification accuracy: {}'.format(accuracy)"
   ]
  },
  {
   "cell_type": "markdown",
   "metadata": {},
   "source": [
    "It seems like we get comparable accuracy using kNN whether or not we use the gradient magnitude histogram vector. Let's use cross-validation to select the best k for nearest neighbors:"
   ]
  },
  {
   "cell_type": "code",
   "execution_count": 63,
   "metadata": {
    "collapsed": true
   },
   "outputs": [],
   "source": [
    "from sklearn import cross_validation"
   ]
  },
  {
   "cell_type": "code",
   "execution_count": 94,
   "metadata": {
    "collapsed": true
   },
   "outputs": [],
   "source": [
    "# Cross validation model\n",
    "folds = 10\n",
    "kf = cross_validation.KFold(n=features.shape[0], n_folds=folds,\\\n",
    "                            shuffle=True)"
   ]
  },
  {
   "cell_type": "code",
   "execution_count": 95,
   "metadata": {
    "collapsed": false
   },
   "outputs": [],
   "source": [
    "# Running cross-validation to pick k\n",
    "k_min = 1\n",
    "k_max = 20\n",
    "accuracies = np.zeros((folds, (k_max - k_min + 1)))\n",
    "fold = 0\n",
    "# Iterating through each fold\n",
    "for train_index, test_index in kf:\n",
    "    # Increment fold\n",
    "    fold += 1\n",
    "    # Choosing training and test set for this fold\n",
    "    X_train, X_test = features[train_index], features[test_index]\n",
    "    Y_train, Y_test = labels[train_index], labels[test_index]\n",
    "    for k in range(k_min, k_max + 1):\n",
    "        knn = neighbors.KNeighborsClassifier(n_neighbors=k)\n",
    "        knn.fit(X_train, Y_train)\n",
    "        accuracies[fold-1, k-1] = knn.score(X_test, Y_test)    "
   ]
  },
  {
   "cell_type": "code",
   "execution_count": 96,
   "metadata": {
    "collapsed": false
   },
   "outputs": [
    {
     "name": "stdout",
     "output_type": "stream",
     "text": [
      "[ 0.95357143  0.89642857  0.9         0.85714286  0.84285714  0.83214286\n",
      "  0.81428571  0.8         0.80714286  0.79642857  0.78571429  0.78214286\n",
      "  0.77857143  0.77857143  0.77857143  0.76071429  0.76428571  0.76071429\n",
      "  0.76071429  0.73571429]\n"
     ]
    }
   ],
   "source": [
    "# Calculate average accuracy for each value of k\n",
    "mean_accuracies = np.mean(accuracies, axis=0)\n",
    "print mean_accuracies"
   ]
  },
  {
   "cell_type": "markdown",
   "metadata": {},
   "source": [
    "It seems like $k=3$ is pretty consistently getting good classification results on our samples."
   ]
  },
  {
   "cell_type": "markdown",
   "metadata": {},
   "source": [
    "## Satellite image roof detection\n",
    "The previous results looked pretty promising! Maybe we should just try to classify candidates using the full feature vector first and see how it goes. However, in the past we wrote a couple different versions of a `classify_image` function that used color histograms and hog only. Let's clean that code up and write a general function that can classify image patches using whatever features we choose:"
   ]
  },
  {
   "cell_type": "code",
   "execution_count": 10,
   "metadata": {
    "collapsed": true
   },
   "outputs": [],
   "source": [
    "image_fn = '../images/test_images/test10.png'\n",
    "template_fn = '../images/templates/template1.png'\n",
    "image_data_fn = '../data/all_image_data.csv'"
   ]
  },
  {
   "cell_type": "code",
   "execution_count": 11,
   "metadata": {
    "collapsed": true
   },
   "outputs": [],
   "source": [
    "out_fn = '../images/output_images/10_color_only.png'"
   ]
  },
  {
   "cell_type": "code",
   "execution_count": 12,
   "metadata": {
    "collapsed": true
   },
   "outputs": [],
   "source": [
    "from utils import *\n",
    "from skimage.measure import label\n",
    "\n",
    "def find_markers(image_fn, template_fn, thresh=0.05):\n",
    "    \"\"\"\n",
    "    This function performs template matching on an image with a template\n",
    "    and thresholds the result, returning the labeled markers and the\n",
    "    total number of markers.\n",
    "    :param image_fn: Path of input image\n",
    "    :param template_fn: Path of template to match\n",
    "    :param thresh: Threshold value for template matching\n",
    "    :returns: Labeled markers and number of markers\n",
    "    \"\"\"\n",
    "    # Match template and threshold result\n",
    "    matched = match_template(image_fn, template_fn)\n",
    "    threshed = np.copy(matched)\n",
    "    threshed[np.where(matched > thresh)] = 0\n",
    "    threshed[np.where(matched <= thresh)] = 1\n",
    "    \n",
    "    # Marker labeling\n",
    "    markers, num_markers = label(threshed, return_num=True)\n",
    "    return (markers, num_markers)"
   ]
  },
  {
   "cell_type": "code",
   "execution_count": 13,
   "metadata": {
    "collapsed": true
   },
   "outputs": [],
   "source": [
    "def find_centroids(markers, num_markers):\n",
    "    \"\"\"\n",
    "    This function finds the centroid for each roof candidate.\n",
    "    :param markers: Array of pixels corresponding to labeled candidates\n",
    "    :param num_markers: Number of candidates (+1 for background)\n",
    "    :returns: Candidate centroids\n",
    "    \"\"\"\n",
    "    centroids = np.zeros((num_markers-1, 2))\n",
    "    for i in range(num_markers-1):\n",
    "        location = np.where(markers==(i + 1))\n",
    "        centroids[i,:] = np.array([location[0].mean(),\n",
    "                                   location[1].mean()]).round()\n",
    "    return centroids"
   ]
  },
  {
   "cell_type": "code",
   "execution_count": 14,
   "metadata": {
    "collapsed": true
   },
   "outputs": [],
   "source": [
    "def get_training_data(image_data_fn, use_color=True, use_hog=True,\n",
    "                      use_mag=True):\n",
    "    \"\"\"\n",
    "    This function gets the right training data for the classifier that\n",
    "    we want to use.\n",
    "    :param image_data_fn: Path of csv containing training data\n",
    "    :param use_color: Use color histogram for classification\n",
    "    :param use_hog: Use histogram of oriented gradients\n",
    "    :param use_mag: Use gradient magnitudes\n",
    "    :returns: Training data, training labels, and a label encoder\n",
    "    \"\"\"\n",
    "    # Load training data\n",
    "    (features, colors, hogs, mags, train_labels, label_encoder) = \\\n",
    "                import_image_data(image_data_fn)\n",
    "    \n",
    "    # Getting correct training data\n",
    "    if use_color and use_hog and use_mag:\n",
    "        train_data = features\n",
    "    elif use_color and use_hog:\n",
    "        train_data = np.concatenate((colors, hogs), axis=1)\n",
    "    elif use_color and use_mag:\n",
    "        train_data = np.concatenate((colors, mags), axis=1)\n",
    "    elif use_hog and use_mag:\n",
    "        train_data = np.concatenate((hogs, mags), axis=1)\n",
    "    elif use_color:\n",
    "        train_data = colors\n",
    "    elif use_hog:\n",
    "        train_data = hogs\n",
    "    elif use_mag:\n",
    "        train_data = mags\n",
    "    else:\n",
    "        print 'Error: No features were specified.'\n",
    "    \n",
    "    return (train_data, train_labels, label_encoder)"
   ]
  },
  {
   "cell_type": "code",
   "execution_count": 15,
   "metadata": {
    "collapsed": true
   },
   "outputs": [],
   "source": [
    "from features import *\n",
    "\n",
    "def get_color_vector(image, centroid, color_rad):\n",
    "    \"\"\"\n",
    "    This functions gets the color histogram vector for a candidate in an\n",
    "    image.\n",
    "    :param image: Input image\n",
    "    :param centroid: Centroid of candidate\n",
    "    :param color_rad: Radius for computing color histogram\n",
    "    :returns: Color histogram vector (1x48)\n",
    "    \"\"\"\n",
    "    row = centroid[0]\n",
    "    col = centroid[1]\n",
    "    # Get candidate patch\n",
    "    x_min = max(0, (row - color_rad))\n",
    "    x_max = min((image.shape[0] - 1), (row + color_rad + 1))\n",
    "    y_min = max(0, (col - color_rad))\n",
    "    y_max = min((image.shape[1] - 1), (col + color_rad + 1))\n",
    "    patch = image[x_min:x_max, y_min:y_max, :]\n",
    "    # Return color histogram vector\n",
    "    return calc_color_hist(patch).flatten()"
   ]
  },
  {
   "cell_type": "code",
   "execution_count": 28,
   "metadata": {
    "collapsed": true
   },
   "outputs": [],
   "source": [
    "from features import *\n",
    "\n",
    "def get_hog_vector(image, centroid, hog_rad):\n",
    "    \"\"\"\n",
    "    This functions gets the color histogram vector for a candidate in an\n",
    "    image.\n",
    "    :param image: Input image\n",
    "    :param centroid: Centroid of candidate\n",
    "    :param hog_rad: Radius for computing hog features\n",
    "    :returns: HOG vector (1x9) and gradient magnitude vector (1x16)\n",
    "    \"\"\"\n",
    "    row = centroid[0]\n",
    "    col = centroid[1]\n",
    "    # Get candidate patch\n",
    "    x_min = max(0, (row - hog_rad))\n",
    "    x_max = min((image.shape[0] - 1), (row + hog_rad + 1))\n",
    "    y_min = max(0, (col - hog_rad))\n",
    "    y_max = min((image.shape[1] - 1), (col + hog_rad + 1))\n",
    "    patch = image[x_min:x_max, y_min:y_max, :]\n",
    "    # Return color histogram vector\n",
    "    (hog, hog_bins, magnitude_hist, magnitude_bins, max_magnitude) = \\\n",
    "                compute_hog(patch)\n",
    "    return (hog, magnitude_hist)"
   ]
  },
  {
   "cell_type": "code",
   "execution_count": 17,
   "metadata": {
    "collapsed": true
   },
   "outputs": [],
   "source": [
    "import cv2\n",
    "\n",
    "def get_test_data(image_fn, centroids, use_color=True, use_hog=True,\n",
    "                  use_mag=True, color_rad=15, hog_rad=30):\n",
    "    \"\"\"\n",
    "    This function gets the right candidate features for the classifier\n",
    "    that we want to use.\n",
    "    :param image_fn: Path of input image\n",
    "    :param centroids: Candidate centroids\n",
    "    :param use_color: Use color histogram for classification\n",
    "    :param use_hog: Use histogram of oriented gradients\n",
    "    :param use_mag: Use gradient magnitudes\n",
    "    :param color_rad: Radius for computing color histogram\n",
    "    :param hog_rad: Radius for computing hog features\n",
    "    :returns: Test data (candidate feature vectors)\n",
    "    \"\"\"\n",
    "    # Load input image\n",
    "    image = cv2.imread(image_fn)\n",
    "    \n",
    "    # Number of candidates\n",
    "    n = centroids.shape[0]\n",
    "    \n",
    "    # Feature vector length\n",
    "    bins_color = 48\n",
    "    bins_hog = 9\n",
    "    bins_mag = 16\n",
    "    \n",
    "    # Getting correct training data\n",
    "    if use_color and use_hog and use_mag:\n",
    "        test_data = np.zeros((n, bins_color + bins_hog + bins_mag))\n",
    "        for i in range(n):\n",
    "            color_data = get_color_vector(image, centroids[i,:],\n",
    "                                        color_rad)\n",
    "            hog_data, mag_data = get_hog_vector(image, centroids[i,:],\n",
    "                                               hog_rad)\n",
    "            test_data[i,:] = np.concatenate((color_data, hog_data,\n",
    "                                            mag_data), axis=1)\n",
    "    elif use_color and use_hog:\n",
    "        test_data = np.zeros((n, bins_color + bins_hog))\n",
    "        for i in range(n):\n",
    "            color_data = get_color_vector(image, centroids[i,:],\n",
    "                                        color_rad)\n",
    "            hog_data, mag_data = get_hog_vector(image, centroids[i,:],\n",
    "                                               hog_rad)\n",
    "            test_data[i,:] = np.concatenate((color_data, hog_data),\n",
    "                                            axis=1)\n",
    "    elif use_color and use_mag:\n",
    "        test_data = np.zeros((n, bins_color + bins_mag))\n",
    "        for i in range(n):\n",
    "            color_data = get_color_vector(image, centroids[i,:],\n",
    "                                        color_rad)\n",
    "            hog_data, mag_data = get_hog_vector(image, centroids[i,:],\n",
    "                                               hog_rad)\n",
    "            test_data[i,:] = np.concatenate((color_data, mag_data),\n",
    "                                            axis=1)\n",
    "    elif use_hog and use_mag:\n",
    "        test_data = np.zeros((n, bins_hog + bins_mag))\n",
    "        for i in range(n):\n",
    "            hog_data, mag_data = get_hog_vector(image, centroids[i,:],\n",
    "                                               hog_rad)\n",
    "            test_data[i,:] = np.concatenate((hog_data, mag_data),\n",
    "                                            axis=1)\n",
    "    elif use_color:\n",
    "        test_data = np.zeros((n, bins_color))\n",
    "        for i in range(n):\n",
    "            color_data = get_color_vector(image, centroids[i,:],\n",
    "                                        color_rad)\n",
    "            test_data[i,:] = color_data\n",
    "    elif use_hog:\n",
    "        test_data = np.zeros((n, bins_hog))\n",
    "        for i in range(n):\n",
    "            hog_data, mag_data = get_hog_vector(image, centroids[i,:],\n",
    "                                               hog_rad)\n",
    "            test_data[i,:] = hog_data\n",
    "    elif use_mag:\n",
    "        test_data = np.zeros((n, bins_mag))\n",
    "        for i in range(n):\n",
    "            hog_data, mag_data = get_hog_vector(image, centroids[i,:],\n",
    "                                               hog_rad)\n",
    "            test_data[i,:] = mag_data\n",
    "    else:\n",
    "        print 'Error: No features were specified.'\n",
    "    \n",
    "    return test_data"
   ]
  },
  {
   "cell_type": "code",
   "execution_count": 18,
   "metadata": {
    "collapsed": false
   },
   "outputs": [],
   "source": [
    "from sklearn import neighbors\n",
    "\n",
    "def classify_candidates(train_data, train_labels, test_data,\n",
    "                        label_encoder, k=3):\n",
    "    \"\"\"\n",
    "    This function classifies all candidate roofs within an image and\n",
    "    returns the predicted labels and classification probabilities.\n",
    "    :param train_data: Training data\n",
    "    :param train_labels: Training labels\n",
    "    :param test_data: Test data\n",
    "    :param label_encoder: Encoder to convert class predictions to labels\n",
    "    :param neighbors: Number of neighbors for knn classifier\n",
    "    :returns: Predicted labels and classification probabilities\n",
    "    \"\"\"\n",
    "    # Create and fit a nearest neighbors classifier\n",
    "    knn = neighbors.KNeighborsClassifier(n_neighbors=k)\n",
    "    # Train on training observations\n",
    "    knn.fit(train_data, train_labels)\n",
    "    # Predict labels for test set\n",
    "    predictions = knn.predict(test_data)\n",
    "    labels = label_encoder.inverse_transform(predictions)\n",
    "    probs = knn.predict_proba(test_data)\n",
    "    \n",
    "    return (predictions, labels, probs)"
   ]
  },
  {
   "cell_type": "code",
   "execution_count": 19,
   "metadata": {
    "collapsed": true
   },
   "outputs": [],
   "source": [
    "from PIL import Image\n",
    "import cv2\n",
    "\n",
    "def annotate_results(image_fn, centroids, predictions, labels):\n",
    "    \"\"\"\n",
    "    This function annotates the original image with the classification\n",
    "    results and displays the annotated image.\n",
    "    :param image_fn: Path of input image\n",
    "    :param centroids: Candidate centroids\n",
    "    :param predictions: Candidate class predictions\n",
    "    :param labels: Candidate class labels\n",
    "    :returns: Annotated image\n",
    "    \"\"\"\n",
    "    # Load satellite image for annotation\n",
    "    image = cv2.imread(image_fn)\n",
    "    font = cv2.FONT_HERSHEY_SIMPLEX\n",
    "    text_color = [(255,0,255), (0,0,255), (0,255,0), (255,0,0)]\n",
    "    \n",
    "    # Annotate image for writing to output\n",
    "    for i in range(centroids.shape[0]):\n",
    "        cv2.putText(image, labels[i], (int(centroids[i,1]),\n",
    "                                       int(centroids[i,0])),\n",
    "                    font, 0.6, text_color[predictions[i]], thickness=2,\n",
    "                    lineType=cv2.CV_AA)\n",
    "        cv2.circle(image, (int(centroids[i,1]), int(centroids[i,0])),\n",
    "                   radius=4, color=text_color[predictions[i]],\n",
    "                   thickness=-1, lineType=8)\n",
    "    \n",
    "    # Return annotated image\n",
    "    return image"
   ]
  },
  {
   "cell_type": "code",
   "execution_count": 20,
   "metadata": {
    "collapsed": false
   },
   "outputs": [],
   "source": [
    "def classify_image(image_fn, template_fn, image_data_fn, out_fn,\n",
    "                   use_color=True, use_hog=True, use_mag=True,\n",
    "                   thresh=0.05, color_rad=15, hog_rad=30, k=3,\n",
    "                   display=False):\n",
    "    \"\"\"\n",
    "    This function classifies all candidate roofs within an image and\n",
    "    saves a labeled version of the original image. It returns the\n",
    "    candidate centroid locations, predicted labels, and \n",
    "    classification probabilities.\n",
    "    :param image_fn: Path of input image\n",
    "    :param template_fn: Path of template used to find candidates\n",
    "    :param image_data_fn: Path of csv containing training data\n",
    "    :param out_fn: Path of output image\n",
    "    :param use_color: Use color histogram for classification\n",
    "    :param use_hog: Use histogram of oriented gradients\n",
    "    :param use_mag: Use gradient magnitudes\n",
    "    :param thresh: Threshold value for template matching\n",
    "    :param color_rad: Radius for computing color histogram\n",
    "    :param hog_rad: Radius for computing hog features\n",
    "    :param k: Number of neighbors for knn classifier\n",
    "    :param display: Choose True to display plots\n",
    "    :returns: Candidate centroids, predicted label, and classification\n",
    "    probabilities\n",
    "    \"\"\"\n",
    "    # Template match, threshold, and segment\n",
    "    markers, num_markers = find_markers(image_fn, template_fn)\n",
    "    if display:\n",
    "        plt.figure()\n",
    "        plt.imshow(markers)\n",
    "        plt.show()\n",
    "\n",
    "    # If at least one candidate is found\n",
    "    if num_markers > 1:\n",
    "        \n",
    "        # Find centroids\n",
    "        centroids = find_centroids(markers, num_markers)\n",
    "        \n",
    "        # Get training data\n",
    "        (train_data, train_labels, label_encoder) = \\\n",
    "                    get_training_data(image_data_fn, use_color,\n",
    "                                      use_hog, use_mag)\n",
    "        \n",
    "        # Get test data\n",
    "        test_data = get_test_data(image_fn, centroids, use_color,\n",
    "                                  use_hog, use_mag)\n",
    "        \n",
    "        # Classify candidates\n",
    "        (predictions, labels, probs) = classify_candidates(train_data,\n",
    "                                             train_labels, test_data,\n",
    "                                             label_encoder, k)\n",
    "        \n",
    "        # Annotate and display candidate classification results\n",
    "        image = annotate_results(image_fn, centroids, predictions,\n",
    "                                 labels)\n",
    "        \n",
    "        # Display classification results\n",
    "        if display:\n",
    "            # Load image for display\n",
    "            converted_image = Image.open(image_fn).convert('P')\n",
    "            # Colors and weights for each class\n",
    "            colors = ['m', 'r', 'g', 'b']\n",
    "            weights = ['normal', 'bold', 'normal', 'normal']\n",
    "            # Annotate plot for display\n",
    "            plt.figure()\n",
    "            plt.imshow(converted_image)\n",
    "            for i in range(centroids.shape[0]):\n",
    "                plt.plot(centroids[i,1], centroids[i,0], 'o',\n",
    "                         color=colors[predictions[i]])\n",
    "                plt.text(centroids[i,1], centroids[i,0], labels[i],\n",
    "                         color=colors[predictions[i]], fontsize=15,\n",
    "                         fontweight=weights[predictions[i]])\n",
    "            plt.xlim(0,400)\n",
    "            plt.ylim(0,400)\n",
    "            plt.gca().invert_yaxis()\n",
    "            plt.show()\n",
    "        \n",
    "    # If no candidates are found\n",
    "    else:\n",
    "        centroids = None\n",
    "        labels = None\n",
    "        probs = None\n",
    "        if display:\n",
    "            plt.figure()\n",
    "            plt.imshow(converted_image)\n",
    "            plt.show()\n",
    "        # Load input image\n",
    "        image = cv2.imread(image_fn)\n",
    "    \n",
    "    # Write output image\n",
    "    cv2.imwrite(out_fn, image)\n",
    "    \n",
    "    return (centroids, labels, probs)"
   ]
  },
  {
   "cell_type": "code",
   "execution_count": 23,
   "metadata": {
    "collapsed": false
   },
   "outputs": [
    {
     "data": {
      "image/png": "[encoded data removed]",
      "text/plain": [
       "<matplotlib.figure.Figure at 0x7fd021281150>"
      ]
     },
     "metadata": {},
     "output_type": "display_data"
    },
    {
     "data": {
      "image/png": "[encoded data removed]",
      "text/plain": [
       "<matplotlib.figure.Figure at 0x7fd0211f0890>"
      ]
     },
     "metadata": {},
     "output_type": "display_data"
    }
   ],
   "source": [
    "centroids, labels, probs = classify_image(image_fn, template_fn,\n",
    "                                          image_data_fn, out_fn,\n",
    "                                          use_color=True, use_hog=True,\n",
    "                                          use_mag=True, thresh=0.05,\n",
    "                                          color_rad=15, hog_rad=30,\n",
    "                                          k=3, display=True)"
   ]
  },
  {
   "cell_type": "markdown",
   "metadata": {},
   "source": [
    "That took forever!!! It looks like it works on the test image above though, so let's write a function to do batch classification."
   ]
  },
  {
   "cell_type": "code",
   "execution_count": 24,
   "metadata": {
    "collapsed": true
   },
   "outputs": [],
   "source": [
    "import glob\n",
    "import os\n",
    "from time import time"
   ]
  },
  {
   "cell_type": "code",
   "execution_count": 25,
   "metadata": {
    "collapsed": true
   },
   "outputs": [],
   "source": [
    "# Specifying input and output image directories\n",
    "in_dir = '../images/test_images/'\n",
    "out_dir = '../images/output_images/'\n",
    "template_fn = '../images/templates/template1.png'\n",
    "image_data_fn = '../data/all_image_data.csv'"
   ]
  },
  {
   "cell_type": "code",
   "execution_count": 26,
   "metadata": {
    "collapsed": true
   },
   "outputs": [],
   "source": [
    "def batch_classify(in_dir, out_dir, template_fn, image_data_fn,\n",
    "                   use_color=True, use_hog=True, use_mag=True,\n",
    "                   thresh=0.05, color_rad=15, hog_rad=30, k=3):\n",
    "    \"\"\"\n",
    "    This function classifies all images in the input directory and\n",
    "    saves annotated output images in the output directory.\n",
    "    :param in_dir: Input directory\n",
    "    :param out_dir: Output directory\n",
    "    :param template_fn: Path of template used to find candidates\n",
    "    :param image_data_fn: Path of csv containing training data\n",
    "    :param use_color: Use color histogram for classification\n",
    "    :param use_hog: Use histogram of oriented gradients\n",
    "    :param use_mag: Use gradient magnitudes\n",
    "    :param thresh: Threshold value for template matching\n",
    "    :param color_rad: Radius for computing color histogram\n",
    "    :param hog_rad: Radius for computing hog features\n",
    "    :param k: Number of neighbors for knn classifier\n",
    "    \"\"\"\n",
    "    t_start = time()\n",
    "    count = 0\n",
    "    \n",
    "    # Determine correct suffix\n",
    "    if use_color and use_hog and use_mag:\n",
    "        suffix = '_all'\n",
    "    elif use_color and use_hog:\n",
    "        suffix = '_color_hog'\n",
    "    elif use_color and use_mag:\n",
    "        suffix = '_color_mag'\n",
    "    elif use_hog and use_mag:\n",
    "        suffix = '_hog_mag'\n",
    "    elif use_color:\n",
    "        suffix = '_color'\n",
    "    elif use_hog:\n",
    "        suffix = '_hog'\n",
    "    elif use_mag:\n",
    "        suffix = '_mag'\n",
    "    else:\n",
    "        print 'Error: No features were specified.'\n",
    "    \n",
    "    # Process all images in input directory\n",
    "    for image_fn in glob.glob(in_dir + '*'):\n",
    "        out_fn = out_dir + str(count) + suffix + '.png'\n",
    "        classify_image(image_fn, template_fn, image_data_fn, out_fn,\n",
    "                       use_color, use_hog, use_mag, thresh, color_rad,\n",
    "                       hog_rad, k)\n",
    "        count += 1\n",
    "    \n",
    "    t_end = time()\n",
    "    print 'Classified {} images in {} seconds.'.format(count,\n",
    "                                                      (t_end - t_start))"
   ]
  },
  {
   "cell_type": "code",
   "execution_count": 27,
   "metadata": {
    "collapsed": false
   },
   "outputs": [
    {
     "name": "stdout",
     "output_type": "stream",
     "text": [
      "Classified 10 images in 3.83093595505 seconds.\n"
     ]
    }
   ],
   "source": [
    "# Batch classify all images in test images\n",
    "batch_classify(in_dir, out_dir, template_fn, image_data_fn,\n",
    "               use_color=False, use_hog=True, use_mag=False,\n",
    "               thresh=0.05, color_rad=15, hog_rad=30, k=3)"
   ]
  },
  {
   "cell_type": "markdown",
   "metadata": {},
   "source": [
    "### Batch classify\n",
    "Our batch classification seems to be working now... let's run it on the DHS images. I'm predicting that it'll take around 45 seconds since each image seems to take about a third of a second."
   ]
  },
  {
   "cell_type": "code",
   "execution_count": 1,
   "metadata": {
    "collapsed": false
   },
   "outputs": [],
   "source": [
    "from classify import *"
   ]
  },
  {
   "cell_type": "code",
   "execution_count": 2,
   "metadata": {
    "collapsed": true
   },
   "outputs": [],
   "source": [
    "# Specifying input and output image directories\n",
    "in_dir = '../images/DHS_in/'\n",
    "out_dir = '../images/DHS_out/'\n",
    "template_fn = '../images/templates/template1.png'\n",
    "image_data_fn = '../data/all_image_data.csv'"
   ]
  },
  {
   "cell_type": "code",
   "execution_count": 3,
   "metadata": {
    "collapsed": false
   },
   "outputs": [
    {
     "ename": "TypeError",
     "evalue": "cannot concatenate 'str' and 'int' objects",
     "output_type": "error",
     "traceback": [
      "\u001b[1;31m---------------------------------------------------------------------------\u001b[0m",
      "\u001b[1;31mTypeError\u001b[0m                                 Traceback (most recent call last)",
      "\u001b[1;32m<ipython-input-3-5a78ade04c83>\u001b[0m in \u001b[0;36m<module>\u001b[1;34m()\u001b[0m\n\u001b[0;32m      2\u001b[0m batch_classify(in_dir, out_dir, template_fn, image_data_fn,\n\u001b[0;32m      3\u001b[0m                \u001b[0muse_color\u001b[0m\u001b[1;33m=\u001b[0m\u001b[0mTrue\u001b[0m\u001b[1;33m,\u001b[0m \u001b[0muse_hog\u001b[0m\u001b[1;33m=\u001b[0m\u001b[0mTrue\u001b[0m\u001b[1;33m,\u001b[0m \u001b[0muse_mag\u001b[0m\u001b[1;33m=\u001b[0m\u001b[0mTrue\u001b[0m\u001b[1;33m,\u001b[0m\u001b[1;33m\u001b[0m\u001b[0m\n\u001b[1;32m----> 4\u001b[1;33m                thresh=0.05, color_rad=15, hog_rad=30, k=3)\n\u001b[0m",
      "\u001b[1;32m/afs/cs.stanford.edu/u/nealjean/scratch/GitHub/BuildingDetector/ipython/classify.py\u001b[0m in \u001b[0;36mbatch_classify\u001b[1;34m(in_dir, out_dir, template_fn, image_data_fn, use_color, use_hog, use_mag, thresh, color_rad, hog_rad, k)\u001b[0m\n\u001b[0;32m    403\u001b[0m         classify_image(image_fn, template_fn, image_data_fn, out_fn,\n\u001b[0;32m    404\u001b[0m                        \u001b[0muse_color\u001b[0m\u001b[1;33m,\u001b[0m \u001b[0muse_hog\u001b[0m\u001b[1;33m,\u001b[0m \u001b[0muse_mag\u001b[0m\u001b[1;33m,\u001b[0m \u001b[0mthresh\u001b[0m\u001b[1;33m,\u001b[0m \u001b[0mcolor_rad\u001b[0m\u001b[1;33m,\u001b[0m\u001b[1;33m\u001b[0m\u001b[0m\n\u001b[1;32m--> 405\u001b[1;33m                        hog_rad, k)\n\u001b[0m\u001b[0;32m    406\u001b[0m         \u001b[0mcount\u001b[0m \u001b[1;33m+=\u001b[0m \u001b[1;36m1\u001b[0m\u001b[1;33m\u001b[0m\u001b[0m\n\u001b[0;32m    407\u001b[0m \u001b[1;33m\u001b[0m\u001b[0m\n",
      "\u001b[1;32m/afs/cs.stanford.edu/u/nealjean/scratch/GitHub/BuildingDetector/ipython/classify.py\u001b[0m in \u001b[0;36mclassify_image\u001b[1;34m(image_fn, template_fn, image_data_fn, out_fn, use_color, use_hog, use_mag, thresh, color_rad, hog_rad, k, display)\u001b[0m\n\u001b[0;32m    309\u001b[0m         \u001b[1;31m# Get test data\u001b[0m\u001b[1;33m\u001b[0m\u001b[1;33m\u001b[0m\u001b[0m\n\u001b[0;32m    310\u001b[0m         test_data = get_test_data(image_fn, centroids, use_color,\n\u001b[1;32m--> 311\u001b[1;33m                                   use_hog, use_mag)\n\u001b[0m\u001b[0;32m    312\u001b[0m \u001b[1;33m\u001b[0m\u001b[0m\n\u001b[0;32m    313\u001b[0m         \u001b[1;31m# Classify candidates\u001b[0m\u001b[1;33m\u001b[0m\u001b[1;33m\u001b[0m\u001b[0m\n",
      "\u001b[1;32m/afs/cs.stanford.edu/u/nealjean/scratch/GitHub/BuildingDetector/ipython/classify.py\u001b[0m in \u001b[0;36mget_test_data\u001b[1;34m(image_fn, centroids, use_color, use_hog, use_mag, color_rad, hog_rad)\u001b[0m\n\u001b[0;32m    160\u001b[0m                                         color_rad)\n\u001b[0;32m    161\u001b[0m             hog_data, mag_data = get_hog_vector(image, centroids[i,:],\n\u001b[1;32m--> 162\u001b[1;33m                                                hog_rad)\n\u001b[0m\u001b[0;32m    163\u001b[0m             test_data[i,:] = np.concatenate((color_data, hog_data,\n\u001b[0;32m    164\u001b[0m                                             mag_data), axis=1)\n",
      "\u001b[1;32m/afs/cs.stanford.edu/u/nealjean/scratch/GitHub/BuildingDetector/ipython/classify.py\u001b[0m in \u001b[0;36mget_hog_vector\u001b[1;34m(image, centroid, hog_rad)\u001b[0m\n\u001b[0;32m    121\u001b[0m     \u001b[0mpatch\u001b[0m \u001b[1;33m=\u001b[0m \u001b[0mimage\u001b[0m\u001b[1;33m[\u001b[0m\u001b[0mx_min\u001b[0m\u001b[1;33m:\u001b[0m\u001b[0mx_max\u001b[0m\u001b[1;33m,\u001b[0m \u001b[0my_min\u001b[0m\u001b[1;33m:\u001b[0m\u001b[0my_max\u001b[0m\u001b[1;33m,\u001b[0m \u001b[1;33m:\u001b[0m\u001b[1;33m]\u001b[0m\u001b[1;33m\u001b[0m\u001b[0m\n\u001b[0;32m    122\u001b[0m     \u001b[1;31m# Write patch as image in training folder\u001b[0m\u001b[1;33m\u001b[0m\u001b[1;33m\u001b[0m\u001b[0m\n\u001b[1;32m--> 123\u001b[1;33m     \u001b[0mcv2\u001b[0m\u001b[1;33m.\u001b[0m\u001b[0mimwrite\u001b[0m\u001b[1;33m(\u001b[0m\u001b[1;34m'../images/hog/'\u001b[0m \u001b[1;33m+\u001b[0m \u001b[0mnp\u001b[0m\u001b[1;33m.\u001b[0m\u001b[0mrandom\u001b[0m\u001b[1;33m.\u001b[0m\u001b[0mrandint\u001b[0m\u001b[1;33m(\u001b[0m\u001b[1;36m0\u001b[0m\u001b[1;33m,\u001b[0m\u001b[1;36m1000000\u001b[0m\u001b[1;33m)\u001b[0m \u001b[1;33m+\u001b[0m \u001b[1;34m'.png'\u001b[0m\u001b[1;33m,\u001b[0m \u001b[0mpatch\u001b[0m\u001b[1;33m)\u001b[0m\u001b[1;33m\u001b[0m\u001b[0m\n\u001b[0m\u001b[0;32m    124\u001b[0m     \u001b[1;31m# Return color histogram vector\u001b[0m\u001b[1;33m\u001b[0m\u001b[1;33m\u001b[0m\u001b[0m\n\u001b[0;32m    125\u001b[0m     \u001b[1;33m(\u001b[0m\u001b[0mhog\u001b[0m\u001b[1;33m,\u001b[0m \u001b[0mhog_bins\u001b[0m\u001b[1;33m,\u001b[0m \u001b[0mmagnitude_hist\u001b[0m\u001b[1;33m,\u001b[0m \u001b[0mmagnitude_bins\u001b[0m\u001b[1;33m,\u001b[0m \u001b[0mmax_magnitude\u001b[0m\u001b[1;33m)\u001b[0m \u001b[1;33m=\u001b[0m\u001b[0;31m \u001b[0m\u001b[0;31m\\\u001b[0m\u001b[1;33m\u001b[0m\u001b[0m\n",
      "\u001b[1;31mTypeError\u001b[0m: cannot concatenate 'str' and 'int' objects"
     ]
    }
   ],
   "source": [
    "# Batch classify all DHS images\n",
    "batch_classify(in_dir, out_dir, template_fn, image_data_fn,\n",
    "               use_color=True, use_hog=True, use_mag=True,\n",
    "               thresh=0.05, color_rad=15, hog_rad=30, k=3)"
   ]
  },
  {
   "cell_type": "markdown",
   "metadata": {},
   "source": [
    "By simply training a knn classifier with all 3 types of features, we unfortunately don't achieve much better results than we did with the color histogram alone. However, one idea is to have the color histogram classify roofs alone first, then train another classifier using HOG or gradient magnitudes to separate out roofs from non-roofs. We can use the image patches identified as roofs by the color histograms as training examples for the next stage classifier."
   ]
  },
  {
   "cell_type": "code",
   "execution_count": null,
   "metadata": {
    "collapsed": true
   },
   "outputs": [],
   "source": []
  },
  {
   "cell_type": "code",
   "execution_count": null,
   "metadata": {
    "collapsed": true
   },
   "outputs": [],
   "source": []
  },
  {
   "cell_type": "code",
   "execution_count": null,
   "metadata": {
    "collapsed": true
   },
   "outputs": [],
   "source": []
  },
  {
   "cell_type": "code",
   "execution_count": null,
   "metadata": {
    "collapsed": true
   },
   "outputs": [],
   "source": []
  },
  {
   "cell_type": "code",
   "execution_count": null,
   "metadata": {
    "collapsed": true
   },
   "outputs": [],
   "source": []
  },
  {
   "cell_type": "code",
   "execution_count": null,
   "metadata": {
    "collapsed": true
   },
   "outputs": [],
   "source": []
  },
  {
   "cell_type": "code",
   "execution_count": null,
   "metadata": {
    "collapsed": true
   },
   "outputs": [],
   "source": []
  },
  {
   "cell_type": "code",
   "execution_count": null,
   "metadata": {
    "collapsed": true
   },
   "outputs": [],
   "source": []
  }
 ],
 "metadata": {
  "kernelspec": {
   "display_name": "Python 2",
   "language": "python",
   "name": "python2"
  },
  "language_info": {
   "codemirror_mode": {
    "name": "ipython",
    "version": 2
   },
   "file_extension": ".py",
   "mimetype": "text/x-python",
   "name": "python",
   "nbconvert_exporter": "python",
   "pygments_lexer": "ipython2",
   "version": "2.7.6"
  }
 },
 "nbformat": 4,
 "nbformat_minor": 0
}
