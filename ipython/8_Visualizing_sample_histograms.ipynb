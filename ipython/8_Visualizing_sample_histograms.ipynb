{
 "cells": [
  {
   "cell_type": "markdown",
   "metadata": {
    "collapsed": true
   },
   "source": [
    "# Visualizing Sample Color Histograms\n",
    "In notebook 6 of this project, I collected a bunch of sample images of different classes of objects (roofs, water, etc.) and plotted their color histograms. In this notebook, I'll try to calculate color histograms for each of my samples and then use dimensionality reduction to visualize the distribution."
   ]
  },
  {
   "cell_type": "code",
   "execution_count": 2,
   "metadata": {
    "collapsed": true
   },
   "outputs": [],
   "source": [
    "import numpy as np\n",
    "import pandas as pd\n",
    "import matplotlib.pyplot as plt\n",
    "from time import time\n",
    "import os\n",
    "import glob\n",
    "import cv2\n",
    "from color_histograms import *\n",
    "import IPython.display\n",
    "\n",
    "%matplotlib inline"
   ]
  },
  {
   "cell_type": "markdown",
   "metadata": {},
   "source": [
    "## Creating Pandas data structures\n",
    "The first thing that we need to do is figure out how to store our data in Pandas data structures so that we can save them to spreadsheets for later use."
   ]
  },
  {
   "cell_type": "code",
   "execution_count": 3,
   "metadata": {
    "collapsed": false
   },
   "outputs": [],
   "source": [
    "# Create data frame for image data\n",
    "imageData = pd.DataFrame(columns=['class', 'imageID', 'filename',\\\n",
    "                                  'width', 'height', 'hist1', 'hist2',\\\n",
    "                                  'hist3', 'hist4', 'hist5', 'hist6',\\\n",
    "                                  'hist7', 'hist8', 'hist9', 'hist10',\\\n",
    "                                  'hist11', 'hist12', 'hist13', 'hist14',\\\n",
    "                                  'hist15', 'hist16', 'hist17', 'hist18',\\\n",
    "                                  'hist19', 'hist20', 'hist21', 'hist22',\\\n",
    "                                  'hist23', 'hist24', 'hist25', 'hist26',\\\n",
    "                                  'hist27', 'hist28', 'hist29', 'hist30',\\\n",
    "                                  'hist31', 'hist32', 'hist33', 'hist34',\\\n",
    "                                  'hist35', 'hist36', 'hist37', 'hist38',\\\n",
    "                                  'hist39', 'hist40', 'hist41', 'hist42',\\\n",
    "                                  'hist43', 'hist44', 'hist45', 'hist46',\\\n",
    "                                  'hist47', 'hist48'])"
   ]
  },
  {
   "cell_type": "code",
   "execution_count": 3,
   "metadata": {
    "collapsed": true
   },
   "outputs": [],
   "source": [
    "# Directories containing samples\n",
    "imageDir = '../images/'\n",
    "samplesDir = imageDir + 'samples/'\n",
    "roofsDir = samplesDir + 'roofs/'\n",
    "waterDir = samplesDir + 'water/'\n",
    "vegDir = samplesDir + 'vegetation/'"
   ]
  },
  {
   "cell_type": "markdown",
   "metadata": {},
   "source": [
    "Let's start with the **roof** class:"
   ]
  },
  {
   "cell_type": "code",
   "execution_count": 4,
   "metadata": {
    "collapsed": false,
    "scrolled": true
   },
   "outputs": [
    {
     "name": "stdout",
     "output_type": "stream",
     "text": [
      "Processed 70 images in total\n"
     ]
    }
   ],
   "source": [
    "# Adding roof samples\n",
    "className = 'roof'\n",
    "\n",
    "# Iterate through images in directory and add image data to DataFrame\n",
    "count = 0\n",
    "for imagePath in glob.iglob(roofsDir + '*.png'):\n",
    "    count += 1\n",
    "    #print 'Processing image {}'.format(count)\n",
    "    # Get image basename with extension\n",
    "    imageFn = os.path.basename(imagePath)\n",
    "    # Get image ID\n",
    "    imageID = imageFn[:-4]\n",
    "    # Read in image and get dimensions\n",
    "    image = cv2.imread(imagePath)\n",
    "    h, w = image.shape[:2]\n",
    "    # Calculate color histogram\n",
    "    hist = calc_color_hist(image, bins=16)\n",
    "    hist = np.transpose(hist)\n",
    "    # Create temporary histogram DataFrame\n",
    "    histdf = pd.DataFrame(hist)\n",
    "    colNames = list(histdf.columns.values)\n",
    "    tempNames = [str(i+1) for i in colNames]\n",
    "    newNames = ['hist' + i for i in tempNames]\n",
    "    histdf.columns = newNames\n",
    "    # Add to DataFrame\n",
    "    img_data = pd.DataFrame({'class': [className], 'imageID': [imageID],\\\n",
    "                             'filename': [imageFn], 'width': [w],\\\n",
    "                             'height': [h]})\n",
    "    # Add histogram DataFrame\n",
    "    img_data = pd.concat([img_data, histdf], axis=1)\n",
    "    # Adds new image data to DataFrame and continues indexing\n",
    "    imageData = imageData.append(img_data, ignore_index=True)\n",
    "print 'Processed {} images in total'.format(count)"
   ]
  },
  {
   "cell_type": "code",
   "execution_count": 5,
   "metadata": {
    "collapsed": false
   },
   "outputs": [],
   "source": [
    "# Drop any rows with duplicated information\n",
    "# Can't use imageID to drop duplicates because imageID's are returned\n",
    "# as ints when loaded from csv\n",
    "imageData.drop_duplicates(['class', 'filename'], inplace=True)\n",
    "# Reorganize columns\n",
    "imageData = imageData[['class', 'imageID', 'filename',\\\n",
    "                       'width', 'height', 'hist1', 'hist2',\\\n",
    "                       'hist3', 'hist4', 'hist5', 'hist6',\\\n",
    "                       'hist7', 'hist8', 'hist9', 'hist10',\\\n",
    "                       'hist11', 'hist12', 'hist13', 'hist14',\\\n",
    "                       'hist15', 'hist16', 'hist17', 'hist18',\\\n",
    "                       'hist19', 'hist20', 'hist21', 'hist22',\\\n",
    "                       'hist23', 'hist24', 'hist25', 'hist26',\\\n",
    "                       'hist27', 'hist28', 'hist29', 'hist30',\\\n",
    "                       'hist31', 'hist32', 'hist33', 'hist34',\\\n",
    "                       'hist35', 'hist36', 'hist37', 'hist38',\\\n",
    "                       'hist39', 'hist40', 'hist41', 'hist42',\\\n",
    "                       'hist43', 'hist44', 'hist45', 'hist46',\\\n",
    "                       'hist47', 'hist48']]"
   ]
  },
  {
   "cell_type": "code",
   "execution_count": 6,
   "metadata": {
    "collapsed": true
   },
   "outputs": [],
   "source": [
    "# Writing image data to csv\n",
    "dataDir = '../data/'\n",
    "imageDataFn = dataDir + 'imageData.csv'\n",
    "imageData.to_csv(imageDataFn)"
   ]
  },
  {
   "cell_type": "markdown",
   "metadata": {},
   "source": [
    "Now that we've saved the roof samples data to a spreadsheet, we want to be able to load the data from the spreadsheet and add data for the vegetation samples and the water samples."
   ]
  },
  {
   "cell_type": "code",
   "execution_count": 7,
   "metadata": {
    "collapsed": true
   },
   "outputs": [],
   "source": [
    "# Loading image data from csv\n",
    "imageData = pd.read_csv(imageDataFn)\n",
    "# Need to convert imageIDs to strings (some get converted to ints)\n",
    "imageData.imageID = imageData.imageID.astype(str)\n",
    "# Drop first column\n",
    "imageData.drop('Unnamed: 0', axis=1, inplace=True)"
   ]
  },
  {
   "cell_type": "code",
   "execution_count": 8,
   "metadata": {
    "collapsed": false
   },
   "outputs": [
    {
     "name": "stdout",
     "output_type": "stream",
     "text": [
      "Processed 70 images in total\n"
     ]
    }
   ],
   "source": [
    "# Adding water samples\n",
    "className = 'water'\n",
    "\n",
    "# Iterate through images in directory and add image data to DataFrame\n",
    "count = 0\n",
    "for imagePath in glob.iglob(waterDir + '*.png'):\n",
    "    count += 1\n",
    "    #print 'Processing image {}'.format(count)\n",
    "    # Get image basename with extension\n",
    "    imageFn = os.path.basename(imagePath)\n",
    "    # Get image ID\n",
    "    imageID = imageFn[:-4]\n",
    "    # Read in image and get dimensions\n",
    "    image = cv2.imread(imagePath)\n",
    "    h, w = image.shape[:2]\n",
    "    # Calculate color histogram\n",
    "    hist = calc_color_hist(image, bins=16)\n",
    "    hist = np.transpose(hist)\n",
    "    # Create temporary histogram DataFrame\n",
    "    histdf = pd.DataFrame(hist)\n",
    "    colNames = list(histdf.columns.values)\n",
    "    tempNames = [str(i+1) for i in colNames]\n",
    "    newNames = ['hist' + i for i in tempNames]\n",
    "    histdf.columns = newNames\n",
    "    # Add to DataFrame\n",
    "    img_data = pd.DataFrame({'class': [className], 'imageID': [imageID],\\\n",
    "                             'filename': [imageFn], 'width': [w],\\\n",
    "                             'height': [h]})\n",
    "    # Add histogram DataFrame\n",
    "    img_data = pd.concat([img_data, histdf], axis=1)\n",
    "    # Continues indexing\n",
    "    imageData = imageData.append(img_data, ignore_index=True)\n",
    "print 'Processed {} images in total'.format(count)"
   ]
  },
  {
   "cell_type": "code",
   "execution_count": 9,
   "metadata": {
    "collapsed": false
   },
   "outputs": [
    {
     "name": "stdout",
     "output_type": "stream",
     "text": [
      "Processed 70 images in total\n"
     ]
    }
   ],
   "source": [
    "# New class of samples\n",
    "className = 'vegetation'\n",
    "\n",
    "# Iterate through images in directory and add image data to DataFrame\n",
    "count = 0\n",
    "for imagePath in glob.iglob(vegDir + '*.png'):\n",
    "    count += 1\n",
    "    #print 'Processing image {}'.format(count)\n",
    "    # Get image basename with extension\n",
    "    imageFn = os.path.basename(imagePath)\n",
    "    # Get image ID\n",
    "    imageID = imageFn[:-4]\n",
    "    # Read in image and get dimensions\n",
    "    image = cv2.imread(imagePath)\n",
    "    h, w = image.shape[:2]\n",
    "    # Calculate color histogram\n",
    "    hist = calc_color_hist(image, bins=16)\n",
    "    hist = np.transpose(hist)\n",
    "    # Create temporary histogram DataFrame\n",
    "    histdf = pd.DataFrame(hist)\n",
    "    colNames = list(histdf.columns.values)\n",
    "    tempNames = [str(i+1) for i in colNames]\n",
    "    newNames = ['hist' + i for i in tempNames]\n",
    "    histdf.columns = newNames\n",
    "    # Add to DataFrame\n",
    "    img_data = pd.DataFrame({'class': [className], 'imageID': [imageID],\\\n",
    "                             'filename': [imageFn], 'width': [w],\\\n",
    "                             'height': [h]})\n",
    "    # Add histogram DataFrame\n",
    "    img_data = pd.concat([img_data, histdf], axis=1)\n",
    "    # Continues indexing\n",
    "    imageData = imageData.append(img_data, ignore_index=True)\n",
    "print 'Processed {} images in total'.format(count)"
   ]
  },
  {
   "cell_type": "code",
   "execution_count": 10,
   "metadata": {
    "collapsed": false,
    "scrolled": true
   },
   "outputs": [],
   "source": [
    "# Drop any rows with duplicated information\n",
    "imageData.drop_duplicates(cols=['class', 'imageID'], inplace=True)\n",
    "# Reorganize columns\n",
    "imageData = imageData[['class', 'imageID', 'filename',\\\n",
    "                       'width', 'height', 'hist1', 'hist2',\\\n",
    "                       'hist3', 'hist4', 'hist5', 'hist6',\\\n",
    "                       'hist7', 'hist8', 'hist9', 'hist10',\\\n",
    "                       'hist11', 'hist12', 'hist13', 'hist14',\\\n",
    "                       'hist15', 'hist16', 'hist17', 'hist18',\\\n",
    "                       'hist19', 'hist20', 'hist21', 'hist22',\\\n",
    "                       'hist23', 'hist24', 'hist25', 'hist26',\\\n",
    "                       'hist27', 'hist28', 'hist29', 'hist30',\\\n",
    "                       'hist31', 'hist32', 'hist33', 'hist34',\\\n",
    "                       'hist35', 'hist36', 'hist37', 'hist38',\\\n",
    "                       'hist39', 'hist40', 'hist41', 'hist42',\\\n",
    "                       'hist43', 'hist44', 'hist45', 'hist46',\\\n",
    "                       'hist47', 'hist48']]\n",
    "# Reset index in case duplicate rows were dropped\n",
    "imageData.reset_index(drop=True);"
   ]
  },
  {
   "cell_type": "code",
   "execution_count": 11,
   "metadata": {
    "collapsed": false
   },
   "outputs": [
    {
     "name": "stdout",
     "output_type": "stream",
     "text": [
      "Wrote data for 210 images to csv.\n"
     ]
    }
   ],
   "source": [
    "# Writing image data to csv\n",
    "dataDir = '../data/'\n",
    "imageDataFn = dataDir + 'imageData.csv'\n",
    "imageData.to_csv(imageDataFn)\n",
    "print 'Wrote data for {} images to csv.'.format(imageData.shape[0])"
   ]
  },
  {
   "cell_type": "markdown",
   "metadata": {},
   "source": [
    "Since we'll probably be loading and writing image data later on, let's write a function that can take in a target directory and target csv file and then add image data for all images in the target directory to the existing csv."
   ]
  },
  {
   "cell_type": "code",
   "execution_count": 12,
   "metadata": {
    "collapsed": true
   },
   "outputs": [],
   "source": [
    "def append_image_data(class_name, image_dir, csv_in, csv_out=None):\n",
    "    \"\"\"\n",
    "    This function looks in the specified image directory and adds image\n",
    "    data for all images within the directory to the database loaded from\n",
    "    the input csv file, then writes the output database to the output\n",
    "    csv.\n",
    "    :param class_name: Class of images contained in directory\n",
    "    :param image_dir: Directory containing images\n",
    "    :param csv_in: Path to the input csv\n",
    "    :param csv_out: Path of output csv\n",
    "    \"\"\"\n",
    "    # If no output csv specified, write to input csv\n",
    "    if csv_out == None:\n",
    "        csv_out = csv_in\n",
    "    # Loading image data from csv\n",
    "    imageData = pd.read_csv(csv_in)\n",
    "    # Need to convert imageIDs to strings (some get converted to ints)\n",
    "    imageData.imageID = imageData.imageID.astype(str)\n",
    "    # Drop first column\n",
    "    imageData.drop('Unnamed: 0', axis=1, inplace=True)\n",
    "    # Iterate through images in directory and add image data to DataFrame\n",
    "    count = 0\n",
    "    for imagePath in glob.iglob(image_dir + '*.png'):\n",
    "        count += 1\n",
    "        #print 'Processing image {}'.format(count)\n",
    "        # Get image basename with extension\n",
    "        imageFn = os.path.basename(imagePath)\n",
    "        # Get image ID\n",
    "        imageID = imageFn[:-4]\n",
    "        # Read in image and get dimensions\n",
    "        image = cv2.imread(imagePath)\n",
    "        h, w = image.shape[:2]\n",
    "        # Calculate color histogram\n",
    "        hist = calc_color_hist(image, bins=16)\n",
    "        hist = np.transpose(hist)\n",
    "        # Create temporary histogram DataFrame\n",
    "        histdf = pd.DataFrame(hist)\n",
    "        colNames = list(histdf.columns.values)\n",
    "        tempNames = [str(i+1) for i in colNames]\n",
    "        newNames = ['hist' + i for i in tempNames]\n",
    "        histdf.columns = newNames\n",
    "        # Add to DataFrame\n",
    "        img_data = pd.DataFrame({'class': [class_name], 'imageID': [imageID],\\\n",
    "                                 'filename': [imageFn], 'width': [w],\\\n",
    "                                 'height': [h]})\n",
    "        # Add histogram DataFrame\n",
    "        img_data = pd.concat([img_data, histdf], axis=1)\n",
    "        # Continues indexing\n",
    "        imageData = imageData.append(img_data, ignore_index=True)\n",
    "    print 'Processed {} images in total'.format(count)\n",
    "    # Drop any rows with duplicated information\n",
    "    imageData.drop_duplicates(cols=['class', 'imageID'], inplace=True)\n",
    "    # Reorganize columns\n",
    "    imageData = imageData[['class', 'imageID', 'filename',\\\n",
    "                           'width', 'height', 'hist1', 'hist2',\\\n",
    "                           'hist3', 'hist4', 'hist5', 'hist6',\\\n",
    "                           'hist7', 'hist8', 'hist9', 'hist10',\\\n",
    "                           'hist11', 'hist12', 'hist13', 'hist14',\\\n",
    "                           'hist15', 'hist16', 'hist17', 'hist18',\\\n",
    "                           'hist19', 'hist20', 'hist21', 'hist22',\\\n",
    "                           'hist23', 'hist24', 'hist25', 'hist26',\\\n",
    "                           'hist27', 'hist28', 'hist29', 'hist30',\\\n",
    "                           'hist31', 'hist32', 'hist33', 'hist34',\\\n",
    "                           'hist35', 'hist36', 'hist37', 'hist38',\\\n",
    "                           'hist39', 'hist40', 'hist41', 'hist42',\\\n",
    "                           'hist43', 'hist44', 'hist45', 'hist46',\\\n",
    "                           'hist47', 'hist48']]\n",
    "    # Reset index in case duplicate rows were dropped\n",
    "    imageData.reset_index(drop=True)\n",
    "    # Writing image data to output csv\n",
    "    imageData.to_csv(csv_out)\n",
    "    print 'Wrote data for {} images to csv.'.format(imageData.shape[0])"
   ]
  },
  {
   "cell_type": "markdown",
   "metadata": {},
   "source": [
    "### Load image data\n",
    "The next step is to read back the data into Numpy arrays so that I can use `sklearn` tools to visualize the data in two dimensions."
   ]
  },
  {
   "cell_type": "code",
   "execution_count": 13,
   "metadata": {
    "collapsed": true
   },
   "outputs": [],
   "source": [
    "# Loading image data from csv\n",
    "imageData = pd.read_csv(imageDataFn)\n",
    "# Need to convert imageIDs to strings (some get converted to ints)\n",
    "imageData.imageID = imageData.imageID.astype(str)\n",
    "# Drop first column\n",
    "imageData.drop('Unnamed: 0', axis=1, inplace=True)"
   ]
  },
  {
   "cell_type": "markdown",
   "metadata": {},
   "source": [
    "#### Getting data labels\n",
    "We need to get the labels for the training data and also encode them with integer values (instead of 'roof', 'water', etc.)."
   ]
  },
  {
   "cell_type": "code",
   "execution_count": 14,
   "metadata": {
    "collapsed": true
   },
   "outputs": [],
   "source": [
    "from sklearn import preprocessing"
   ]
  },
  {
   "cell_type": "code",
   "execution_count": 15,
   "metadata": {
    "collapsed": false
   },
   "outputs": [
    {
     "name": "stdout",
     "output_type": "stream",
     "text": [
      "Got class labels for 210 training data points.\n"
     ]
    }
   ],
   "source": [
    "# Get class labels\n",
    "labels = imageData.as_matrix(columns=['class'])\n",
    "# Making 2D array into 1D array\n",
    "labels = labels.flatten()\n",
    "# Encode labels with value between 0 and n_classes-1\n",
    "le = preprocessing.LabelEncoder()\n",
    "# roof = 0, water = 2, vegetation = 1\n",
    "le.fit(labels)\n",
    "# print le.classes_ # displays the set of classes\n",
    "labels = le.transform(labels)\n",
    "\n",
    "print 'Got class labels for {} training data points.'.format\\\n",
    "      (labels.shape[0])"
   ]
  },
  {
   "cell_type": "markdown",
   "metadata": {},
   "source": [
    "#### Getting color histogram feature vectors\n",
    "Next we need to get the color histogram for each training example."
   ]
  },
  {
   "cell_type": "code",
   "execution_count": 16,
   "metadata": {
    "collapsed": false
   },
   "outputs": [
    {
     "name": "stdout",
     "output_type": "stream",
     "text": [
      "Got feature vector for 210 training data points.\n"
     ]
    }
   ],
   "source": [
    "# Get color histograms\n",
    "bins = ['hist' + str(i+1) for i in range(48)]\n",
    "hists = imageData.as_matrix(columns=bins)\n",
    "\n",
    "print 'Got feature vector for {} training data points.'.format\\\n",
    "      (hists.shape[0])"
   ]
  },
  {
   "cell_type": "markdown",
   "metadata": {},
   "source": [
    "As above, we will definitely be needing to load image data from csv for `sklearn` processing, so let's make a function that takes the image data csv file and returns Numpy arrays containing the color histogram feature vectors and the image class labels."
   ]
  },
  {
   "cell_type": "code",
   "execution_count": 17,
   "metadata": {
    "collapsed": true
   },
   "outputs": [],
   "source": [
    "def import_image_data(csv_in):\n",
    "    \"\"\"\n",
    "    This function reads image data from a csv file and returns Numpy\n",
    "    arrays containing the image features and the image labels so that\n",
    "    the data is ready for use. It also returns a label encoder so that\n",
    "    we can go back and forth between class string labels and integer\n",
    "    encodings.\n",
    "    :param csv_in: Path of csv file containing image data\n",
    "    :returns: Image feature vectors, image labels, and label encoder\n",
    "    \"\"\"\n",
    "    # Loading image data from csv\n",
    "    imageData = pd.read_csv(csv_in)\n",
    "    # Need to convert imageIDs to strings (some get converted to ints)\n",
    "    imageData.imageID = imageData.imageID.astype(str)\n",
    "    # Drop first column\n",
    "    imageData.drop('Unnamed: 0', axis=1, inplace=True)\n",
    "    # Get class labels\n",
    "    labels = imageData.as_matrix(columns=['class'])\n",
    "    # Making 2D array into 1D array\n",
    "    labels = labels.flatten()\n",
    "    # Encode labels with value between 0 and n_classes-1\n",
    "    le = preprocessing.LabelEncoder()\n",
    "    # roof = 0, water = 2, vegetation = 1\n",
    "    le.fit(labels)\n",
    "    print le.classes_ # displays the set of classes\n",
    "    labels = le.transform(labels)\n",
    "    print 'Got class labels for {} training data points.'.format\\\n",
    "          (labels.shape[0])\n",
    "    # Get color histograms\n",
    "    bins = ['hist' + str(i+1) for i in range(48)]\n",
    "    hists = imageData.as_matrix(columns=bins)\n",
    "    print 'Got feature vector for {} training data points.'.format\\\n",
    "          (hists.shape[0])\n",
    "    return (hists, labels, le)"
   ]
  },
  {
   "cell_type": "markdown",
   "metadata": {},
   "source": [
    "## Dimensionality reduction\n",
    "Now we are finally ready to try to visualize our high-dimensional dataset. We'll use several different dimensionality reduction techniques to try to find a good visualization in two dimensions. Hopefully we will be able to see some clear separations between our different classes--if we do, then we can start to think about how to classify future test set data."
   ]
  },
  {
   "cell_type": "markdown",
   "metadata": {},
   "source": [
    "### PCA"
   ]
  },
  {
   "cell_type": "code",
   "execution_count": 18,
   "metadata": {
    "collapsed": true
   },
   "outputs": [],
   "source": [
    "from sklearn import decomposition"
   ]
  },
  {
   "cell_type": "code",
   "execution_count": 19,
   "metadata": {
    "collapsed": false
   },
   "outputs": [],
   "source": [
    "# Calculate the 1st 2 PCA components\n",
    "pca = decomposition.PCA(n_components=2)\n",
    "pca.fit(hists)\n",
    "X = pca.transform(hists)"
   ]
  },
  {
   "cell_type": "code",
   "execution_count": 20,
   "metadata": {
    "collapsed": false
   },
   "outputs": [
    {
     "data": {
      "image/png": "[encoded data removed]",
      "text/plain": [
       "<matplotlib.figure.Figure at 0x7efce4febf10>"
      ]
     },
     "metadata": {},
     "output_type": "display_data"
    }
   ],
   "source": [
    "# Plot PCA decomposition with 3 classes \n",
    "plt.figure()\n",
    "colors = ['b', 'g', 'r', 'c', 'm', 'y']\n",
    "for i in range(np.unique(labels).size):\n",
    "    indices = np.where(labels==i)\n",
    "    plt.scatter(X[indices,0], X[indices,1], c=colors[i])\n",
    "plt.legend([le.inverse_transform(i) for i in\\\n",
    "            range(np.unique(labels).size)], loc='upper left')\n",
    "plt.title('PCA of color histograms')\n",
    "plt.xlabel('1st component')\n",
    "plt.ylabel('2nd component')\n",
    "plt.show()"
   ]
  },
  {
   "cell_type": "markdown",
   "metadata": {},
   "source": [
    "This already doesn't look very good... but let's add in another category of images just to see what happens. Neither vegetation nor water images look very similar (visually) to roofs, so I want to see how dimensionality reduction works with a more similar category. Let's add in \"dirt\" for now, and maybe we can add roads later."
   ]
  },
  {
   "cell_type": "code",
   "execution_count": 21,
   "metadata": {
    "collapsed": false
   },
   "outputs": [
    {
     "name": "stdout",
     "output_type": "stream",
     "text": [
      "Processed 70 images in total\n",
      "Wrote data for 280 images to csv.\n"
     ]
    }
   ],
   "source": [
    "# Using function for adding image data\n",
    "dirtDir = samplesDir + 'dirt/'\n",
    "append_image_data('dirt', dirtDir, imageDataFn)"
   ]
  },
  {
   "cell_type": "code",
   "execution_count": 22,
   "metadata": {
    "collapsed": false
   },
   "outputs": [
    {
     "name": "stdout",
     "output_type": "stream",
     "text": [
      "['dirt' 'roof' 'vegetation' 'water']\n",
      "Got class labels for 280 training data points.\n",
      "Got feature vector for 280 training data points.\n"
     ]
    }
   ],
   "source": [
    "# Using function for importing data from csv\n",
    "hists, labels, le = import_image_data(imageDataFn)"
   ]
  },
  {
   "cell_type": "code",
   "execution_count": 23,
   "metadata": {
    "collapsed": true
   },
   "outputs": [],
   "source": [
    "# Calculate the 1st 2 PCA components\n",
    "pca = decomposition.PCA(n_components=2)\n",
    "pca.fit(hists)\n",
    "X_pca = pca.transform(hists)"
   ]
  },
  {
   "cell_type": "code",
   "execution_count": 24,
   "metadata": {
    "collapsed": false
   },
   "outputs": [
    {
     "data": {
      "image/png": "[encoded data removed]",
      "text/plain": [
       "<matplotlib.figure.Figure at 0x7efce4ea3790>"
      ]
     },
     "metadata": {},
     "output_type": "display_data"
    }
   ],
   "source": [
    "# Plot PCA decomposition with 4 classes \n",
    "plt.figure()\n",
    "colors = ['b', 'g', 'r', 'c', 'm', 'y']\n",
    "for i in range(np.unique(labels).size):\n",
    "    indices = np.where(labels==i)\n",
    "    plt.scatter(X_pca[indices,0], X_pca[indices,1], c=colors[i])\n",
    "plt.legend([le.inverse_transform(i) for i in\\\n",
    "            range(np.unique(labels).size)], loc='upper left')\n",
    "plt.title('PCA of color histograms')\n",
    "plt.xlabel('1st component')\n",
    "plt.ylabel('2nd component')\n",
    "plt.show()"
   ]
  },
  {
   "cell_type": "markdown",
   "metadata": {},
   "source": [
    "Overall, the PCA decomposition doesn't look that great, but at least the roofs seems to be clustered together so that seems promising.\n",
    "\n",
    "Let's see what happens when we use LDA to identify the differences between classes, as PCA was an unsupervised algorithm."
   ]
  },
  {
   "cell_type": "markdown",
   "metadata": {},
   "source": [
    "### LDA"
   ]
  },
  {
   "cell_type": "code",
   "execution_count": 25,
   "metadata": {
    "collapsed": true
   },
   "outputs": [],
   "source": [
    "from sklearn import lda"
   ]
  },
  {
   "cell_type": "code",
   "execution_count": 26,
   "metadata": {
    "collapsed": false
   },
   "outputs": [
    {
     "name": "stderr",
     "output_type": "stream",
     "text": [
      "/afs/cs.stanford.edu/u/nealjean/.local/lib/python2.7/site-packages/sklearn/lda.py:161: UserWarning: Variables are collinear\n",
      "  warnings.warn(\"Variables are collinear\")\n"
     ]
    }
   ],
   "source": [
    "# Projection onto the first 2 linear discriminant components\n",
    "hists2 = hists.copy()\n",
    "hists.flat[::hists.shape[1] + 1] += 0.01 # Make X invertible\n",
    "X_lda = lda.LDA(n_components=2).fit_transform(hists2, labels)"
   ]
  },
  {
   "cell_type": "code",
   "execution_count": 27,
   "metadata": {
    "collapsed": false
   },
   "outputs": [
    {
     "data": {
      "image/png": "[encoded data removed]",
      "text/plain": [
       "<matplotlib.figure.Figure at 0x7efce4ea3ad0>"
      ]
     },
     "metadata": {},
     "output_type": "display_data"
    }
   ],
   "source": [
    "# Plot LDA decomposition with 4 classes \n",
    "plt.figure()\n",
    "colors = ['b', 'g', 'r', 'c', 'm', 'y']\n",
    "for i in range(np.unique(labels).size):\n",
    "    indices = np.where(labels==i)\n",
    "    plt.scatter(X_lda[indices,0], X_lda[indices,1], c=colors[i])\n",
    "plt.legend([le.inverse_transform(i) for i in\\\n",
    "            range(np.unique(labels).size)], loc='lower right')\n",
    "plt.title('LDA of color histograms')\n",
    "plt.xlabel('1st component')\n",
    "plt.ylabel('2nd component')\n",
    "plt.show()"
   ]
  },
  {
   "cell_type": "markdown",
   "metadata": {},
   "source": [
    "LDA seems to work much better than PCA. Let's also try some of the other dimensionality reduction techniques that we learned in the tutorial."
   ]
  },
  {
   "cell_type": "markdown",
   "metadata": {},
   "source": [
    "### Isomap"
   ]
  },
  {
   "cell_type": "code",
   "execution_count": 28,
   "metadata": {
    "collapsed": true
   },
   "outputs": [],
   "source": [
    "from sklearn import manifold"
   ]
  },
  {
   "cell_type": "code",
   "execution_count": 32,
   "metadata": {
    "collapsed": false
   },
   "outputs": [
    {
     "data": {
      "image/png": "[encoded data removed]",
      "text/plain": [
       "<matplotlib.figure.Figure at 0x7efcdfaae510>"
      ]
     },
     "metadata": {},
     "output_type": "display_data"
    }
   ],
   "source": [
    "n_neighbors = 10\n",
    "X_iso = manifold.Isomap(n_neighbors, n_components=2).fit_transform(hists)\n",
    "# Plot Isomap with 4 classes \n",
    "plt.figure()\n",
    "colors = ['b', 'g', 'r', 'c', 'm', 'y']\n",
    "for i in range(np.unique(labels).size):\n",
    "    indices = np.where(labels==i)\n",
    "    plt.scatter(X_iso[indices,0], X_iso[indices,1], c=colors[i])\n",
    "plt.legend([le.inverse_transform(i) for i in\\\n",
    "            range(np.unique(labels).size)], loc='upper left')\n",
    "plt.title('Isomap of color histograms')\n",
    "plt.xlabel('1st component')\n",
    "plt.ylabel('2nd component')\n",
    "plt.show()"
   ]
  },
  {
   "cell_type": "markdown",
   "metadata": {},
   "source": [
    "### "
   ]
  },
  {
   "cell_type": "markdown",
   "metadata": {},
   "source": [
    "### Locally-linear embedding (LLE)"
   ]
  },
  {
   "cell_type": "code",
   "execution_count": 42,
   "metadata": {
    "collapsed": false
   },
   "outputs": [
    {
     "data": {
      "image/png": "[encoded data removed]",
      "text/plain": [
       "<matplotlib.figure.Figure at 0x7efce4041a50>"
      ]
     },
     "metadata": {},
     "output_type": "display_data"
    }
   ],
   "source": [
    "n_neighbors = 50\n",
    "clf = manifold.LocallyLinearEmbedding(n_neighbors, n_components=2,\\\n",
    "                                     method='standard')\n",
    "X_lle = clf.fit_transform(hists)\n",
    "# Plot LLE with 4 classes \n",
    "plt.figure()\n",
    "colors = ['b', 'g', 'r', 'c', 'm', 'y']\n",
    "for i in range(np.unique(labels).size):\n",
    "    indices = np.where(labels==i)\n",
    "    plt.scatter(X_lle[indices,0], X_lle[indices,1], c=colors[i])\n",
    "plt.legend([le.inverse_transform(i) for i in\\\n",
    "            range(np.unique(labels).size)], loc='lower left')\n",
    "plt.title('LLE of color histograms')\n",
    "plt.xlabel('1st component')\n",
    "plt.ylabel('2nd component')\n",
    "plt.show()"
   ]
  },
  {
   "cell_type": "markdown",
   "metadata": {},
   "source": [
    "### Modified LLE"
   ]
  },
  {
   "cell_type": "code",
   "execution_count": 59,
   "metadata": {
    "collapsed": false
   },
   "outputs": [
    {
     "data": {
      "image/png": "[encoded data removed]",
      "text/plain": [
       "<matplotlib.figure.Figure at 0x7efce4dace10>"
      ]
     },
     "metadata": {},
     "output_type": "display_data"
    }
   ],
   "source": [
    "n_neighbors = 20\n",
    "clf = manifold.LocallyLinearEmbedding(n_neighbors, n_components=2,\\\n",
    "                                     method='modified')\n",
    "X_mlle = clf.fit_transform(hists)\n",
    "# Plot MLLE with 4 classes \n",
    "plt.figure()\n",
    "colors = ['b', 'g', 'r', 'c', 'm', 'y']\n",
    "for i in range(np.unique(labels).size):\n",
    "    indices = np.where(labels==i)\n",
    "    plt.scatter(X_mlle[indices,0], X_mlle[indices,1], c=colors[i])\n",
    "plt.legend([le.inverse_transform(i) for i in\\\n",
    "            range(np.unique(labels).size)], loc='upper right')\n",
    "plt.title('MLLE of color histograms')\n",
    "plt.xlabel('1st component')\n",
    "plt.ylabel('2nd component')\n",
    "plt.show()"
   ]
  },
  {
   "cell_type": "markdown",
   "metadata": {},
   "source": [
    "This one sucks."
   ]
  },
  {
   "cell_type": "markdown",
   "metadata": {},
   "source": [
    "### Hessian Eigenmapping or Hessian-based LLE (HLLE)"
   ]
  },
  {
   "cell_type": "code",
   "execution_count": 60,
   "metadata": {
    "collapsed": false
   },
   "outputs": [
    {
     "ename": "ValueError",
     "evalue": "Error in determining null-space with ARPACK. Error message: 'Factor is exactly singular'. Note that method='arpack' can fail when the weight matrix is singular or otherwise ill-behaved.  method='dense' is recommended. See online documentation for more information.",
     "output_type": "error",
     "traceback": [
      "\u001b[1;31m---------------------------------------------------------------------------\u001b[0m",
      "\u001b[1;31mValueError\u001b[0m                                Traceback (most recent call last)",
      "\u001b[1;32m<ipython-input-60-f1aa7a85944f>\u001b[0m in \u001b[0;36m<module>\u001b[1;34m()\u001b[0m\n\u001b[0;32m      1\u001b[0m \u001b[0mn_neighbors\u001b[0m \u001b[1;33m=\u001b[0m \u001b[1;36m50\u001b[0m\u001b[1;33m\u001b[0m\u001b[0m\n\u001b[0;32m      2\u001b[0m \u001b[0mclf\u001b[0m \u001b[1;33m=\u001b[0m \u001b[0mmanifold\u001b[0m\u001b[1;33m.\u001b[0m\u001b[0mLocallyLinearEmbedding\u001b[0m\u001b[1;33m(\u001b[0m\u001b[0mn_neighbors\u001b[0m\u001b[1;33m,\u001b[0m \u001b[0mn_components\u001b[0m\u001b[1;33m=\u001b[0m\u001b[1;36m2\u001b[0m\u001b[1;33m,\u001b[0m                                     \u001b[0mmethod\u001b[0m\u001b[1;33m=\u001b[0m\u001b[1;34m'hessian'\u001b[0m\u001b[1;33m)\u001b[0m\u001b[1;33m\u001b[0m\u001b[0m\n\u001b[1;32m----> 3\u001b[1;33m \u001b[0mX_hlle\u001b[0m \u001b[1;33m=\u001b[0m \u001b[0mclf\u001b[0m\u001b[1;33m.\u001b[0m\u001b[0mfit_transform\u001b[0m\u001b[1;33m(\u001b[0m\u001b[0mhists\u001b[0m\u001b[1;33m)\u001b[0m\u001b[1;33m\u001b[0m\u001b[0m\n\u001b[0m\u001b[0;32m      4\u001b[0m \u001b[1;31m# Plot HLLE with 4 classes\u001b[0m\u001b[1;33m\u001b[0m\u001b[1;33m\u001b[0m\u001b[0m\n\u001b[0;32m      5\u001b[0m \u001b[0mplt\u001b[0m\u001b[1;33m.\u001b[0m\u001b[0mfigure\u001b[0m\u001b[1;33m(\u001b[0m\u001b[1;33m)\u001b[0m\u001b[1;33m\u001b[0m\u001b[0m\n",
      "\u001b[1;32m/afs/cs.stanford.edu/u/nealjean/.local/lib/python2.7/site-packages/sklearn/manifold/locally_linear.pyc\u001b[0m in \u001b[0;36mfit_transform\u001b[1;34m(self, X, y)\u001b[0m\n\u001b[0;32m    648\u001b[0m         \u001b[0mX_new\u001b[0m\u001b[1;33m:\u001b[0m \u001b[0marray\u001b[0m\u001b[1;33m-\u001b[0m\u001b[0mlike\u001b[0m\u001b[1;33m,\u001b[0m \u001b[0mshape\u001b[0m \u001b[1;33m(\u001b[0m\u001b[0mn_samples\u001b[0m\u001b[1;33m,\u001b[0m \u001b[0mn_components\u001b[0m\u001b[1;33m)\u001b[0m\u001b[1;33m\u001b[0m\u001b[0m\n\u001b[0;32m    649\u001b[0m         \"\"\"\n\u001b[1;32m--> 650\u001b[1;33m         \u001b[0mself\u001b[0m\u001b[1;33m.\u001b[0m\u001b[0m_fit_transform\u001b[0m\u001b[1;33m(\u001b[0m\u001b[0mX\u001b[0m\u001b[1;33m)\u001b[0m\u001b[1;33m\u001b[0m\u001b[0m\n\u001b[0m\u001b[0;32m    651\u001b[0m         \u001b[1;32mreturn\u001b[0m \u001b[0mself\u001b[0m\u001b[1;33m.\u001b[0m\u001b[0membedding_\u001b[0m\u001b[1;33m\u001b[0m\u001b[0m\n\u001b[0;32m    652\u001b[0m \u001b[1;33m\u001b[0m\u001b[0m\n",
      "\u001b[1;32m/afs/cs.stanford.edu/u/nealjean/.local/lib/python2.7/site-packages/sklearn/manifold/locally_linear.pyc\u001b[0m in \u001b[0;36m_fit_transform\u001b[1;34m(self, X)\u001b[0m\n\u001b[0;32m    619\u001b[0m                 \u001b[0mmax_iter\u001b[0m\u001b[1;33m=\u001b[0m\u001b[0mself\u001b[0m\u001b[1;33m.\u001b[0m\u001b[0mmax_iter\u001b[0m\u001b[1;33m,\u001b[0m \u001b[0mmethod\u001b[0m\u001b[1;33m=\u001b[0m\u001b[0mself\u001b[0m\u001b[1;33m.\u001b[0m\u001b[0mmethod\u001b[0m\u001b[1;33m,\u001b[0m\u001b[1;33m\u001b[0m\u001b[0m\n\u001b[0;32m    620\u001b[0m                 \u001b[0mhessian_tol\u001b[0m\u001b[1;33m=\u001b[0m\u001b[0mself\u001b[0m\u001b[1;33m.\u001b[0m\u001b[0mhessian_tol\u001b[0m\u001b[1;33m,\u001b[0m \u001b[0mmodified_tol\u001b[0m\u001b[1;33m=\u001b[0m\u001b[0mself\u001b[0m\u001b[1;33m.\u001b[0m\u001b[0mmodified_tol\u001b[0m\u001b[1;33m,\u001b[0m\u001b[1;33m\u001b[0m\u001b[0m\n\u001b[1;32m--> 621\u001b[1;33m                 random_state=random_state)\n\u001b[0m\u001b[0;32m    622\u001b[0m \u001b[1;33m\u001b[0m\u001b[0m\n\u001b[0;32m    623\u001b[0m     \u001b[1;32mdef\u001b[0m \u001b[0mfit\u001b[0m\u001b[1;33m(\u001b[0m\u001b[0mself\u001b[0m\u001b[1;33m,\u001b[0m \u001b[0mX\u001b[0m\u001b[1;33m,\u001b[0m \u001b[0my\u001b[0m\u001b[1;33m=\u001b[0m\u001b[0mNone\u001b[0m\u001b[1;33m)\u001b[0m\u001b[1;33m:\u001b[0m\u001b[1;33m\u001b[0m\u001b[0m\n",
      "\u001b[1;32m/afs/cs.stanford.edu/u/nealjean/.local/lib/python2.7/site-packages/sklearn/manifold/locally_linear.pyc\u001b[0m in \u001b[0;36mlocally_linear_embedding\u001b[1;34m(X, n_neighbors, n_components, reg, eigen_solver, tol, max_iter, method, hessian_tol, modified_tol, random_state)\u001b[0m\n\u001b[0;32m    494\u001b[0m \u001b[1;33m\u001b[0m\u001b[0m\n\u001b[0;32m    495\u001b[0m     return null_space(M, n_components, k_skip=1, eigen_solver=eigen_solver,\n\u001b[1;32m--> 496\u001b[1;33m                       tol=tol, max_iter=max_iter, random_state=random_state)\n\u001b[0m\u001b[0;32m    497\u001b[0m \u001b[1;33m\u001b[0m\u001b[0m\n\u001b[0;32m    498\u001b[0m \u001b[1;33m\u001b[0m\u001b[0m\n",
      "\u001b[1;32m/afs/cs.stanford.edu/u/nealjean/.local/lib/python2.7/site-packages/sklearn/manifold/locally_linear.pyc\u001b[0m in \u001b[0;36mnull_space\u001b[1;34m(M, k, k_skip, eigen_solver, tol, max_iter, random_state)\u001b[0m\n\u001b[0;32m    163\u001b[0m                              \u001b[1;34m\"ill-behaved.  method='dense' is recommended. \"\u001b[0m\u001b[1;33m\u001b[0m\u001b[0m\n\u001b[0;32m    164\u001b[0m                              \u001b[1;34m\"See online documentation for more information.\"\u001b[0m\u001b[1;33m\u001b[0m\u001b[0m\n\u001b[1;32m--> 165\u001b[1;33m                              % msg)\n\u001b[0m\u001b[0;32m    166\u001b[0m \u001b[1;33m\u001b[0m\u001b[0m\n\u001b[0;32m    167\u001b[0m         \u001b[1;32mreturn\u001b[0m \u001b[0meigen_vectors\u001b[0m\u001b[1;33m[\u001b[0m\u001b[1;33m:\u001b[0m\u001b[1;33m,\u001b[0m \u001b[0mk_skip\u001b[0m\u001b[1;33m:\u001b[0m\u001b[1;33m]\u001b[0m\u001b[1;33m,\u001b[0m \u001b[0mnp\u001b[0m\u001b[1;33m.\u001b[0m\u001b[0msum\u001b[0m\u001b[1;33m(\u001b[0m\u001b[0meigen_values\u001b[0m\u001b[1;33m[\u001b[0m\u001b[0mk_skip\u001b[0m\u001b[1;33m:\u001b[0m\u001b[1;33m]\u001b[0m\u001b[1;33m)\u001b[0m\u001b[1;33m\u001b[0m\u001b[0m\n",
      "\u001b[1;31mValueError\u001b[0m: Error in determining null-space with ARPACK. Error message: 'Factor is exactly singular'. Note that method='arpack' can fail when the weight matrix is singular or otherwise ill-behaved.  method='dense' is recommended. See online documentation for more information."
     ]
    }
   ],
   "source": [
    "n_neighbors = 50\n",
    "clf = manifold.LocallyLinearEmbedding(n_neighbors, n_components=2,\\\n",
    "                                     method='hessian')\n",
    "X_hlle = clf.fit_transform(hists)\n",
    "# Plot HLLE with 4 classes \n",
    "plt.figure()\n",
    "colors = ['b', 'g', 'r', 'c', 'm', 'y']\n",
    "for i in range(np.unique(labels).size):\n",
    "    indices = np.where(labels==i)\n",
    "    plt.scatter(X_hlle[indices,0], X_hlle[indices,1], c=colors[i])\n",
    "plt.legend([le.inverse_transform(i) for i in\\\n",
    "            range(np.unique(labels).size)], loc='upper right')\n",
    "plt.title('HLLE of color histograms')\n",
    "plt.xlabel('1st component')\n",
    "plt.ylabel('2nd component')\n",
    "plt.show()"
   ]
  },
  {
   "cell_type": "markdown",
   "metadata": {},
   "source": [
    "This one doesn't seem to work for whatever reason."
   ]
  },
  {
   "cell_type": "markdown",
   "metadata": {},
   "source": [
    "### Spectral embedding (Laplacian Eigenmaps)"
   ]
  },
  {
   "cell_type": "code",
   "execution_count": 62,
   "metadata": {
    "collapsed": false
   },
   "outputs": [
    {
     "data": {
      "image/png": "[encoded data removed]",
      "text/plain": [
       "<matplotlib.figure.Figure at 0x7efcdf9514d0>"
      ]
     },
     "metadata": {},
     "output_type": "display_data"
    }
   ],
   "source": [
    "clf = manifold.SpectralEmbedding(n_components=2, random_state=0,\\\n",
    "                                eigen_solver='arpack')\n",
    "X_spectral = clf.fit_transform(hists)\n",
    "# Plot spectral embedding with 4 classes \n",
    "plt.figure()\n",
    "colors = ['b', 'g', 'r', 'c', 'm', 'y']\n",
    "for i in range(np.unique(labels).size):\n",
    "    indices = np.where(labels==i)\n",
    "    plt.scatter(X_spectral[indices,0], X_spectral[indices,1], c=colors[i])\n",
    "plt.legend([le.inverse_transform(i) for i in\\\n",
    "            range(np.unique(labels).size)], loc='upper right')\n",
    "plt.title('Spectral embedding of color histograms')\n",
    "plt.xlabel('1st component')\n",
    "plt.ylabel('2nd component')\n",
    "plt.show()"
   ]
  },
  {
   "cell_type": "markdown",
   "metadata": {},
   "source": [
    "### Local Tangent Space Alignment (LTSA"
   ]
  },
  {
   "cell_type": "code",
   "execution_count": 65,
   "metadata": {
    "collapsed": false
   },
   "outputs": [
    {
     "data": {
      "image/png": "[encoded data removed]",
      "text/plain": [
       "<matplotlib.figure.Figure at 0x7efcdfb8da10>"
      ]
     },
     "metadata": {},
     "output_type": "display_data"
    }
   ],
   "source": [
    "n_neighbors = 10\n",
    "clf = manifold.LocallyLinearEmbedding(n_neighbors, n_components=2,\\\n",
    "                                     method='ltsa')\n",
    "X_ltsa = clf.fit_transform(hists)\n",
    "# Plot LTSA with 4 classes \n",
    "plt.figure()\n",
    "colors = ['b', 'g', 'r', 'c', 'm', 'y']\n",
    "for i in range(np.unique(labels).size):\n",
    "    indices = np.where(labels==i)\n",
    "    plt.scatter(X_ltsa[indices,0], X_ltsa[indices,1], c=colors[i])\n",
    "plt.legend([le.inverse_transform(i) for i in\\\n",
    "            range(np.unique(labels).size)], loc='upper right')\n",
    "plt.title('LTSA of color histograms')\n",
    "plt.xlabel('1st component')\n",
    "plt.ylabel('2nd component')\n",
    "plt.show()"
   ]
  },
  {
   "cell_type": "markdown",
   "metadata": {},
   "source": [
    "Also doesn't work for mysterious reasons..."
   ]
  },
  {
   "cell_type": "markdown",
   "metadata": {},
   "source": [
    "### Multi-dimensional scaling (MDS)"
   ]
  },
  {
   "cell_type": "code",
   "execution_count": 66,
   "metadata": {
    "collapsed": false
   },
   "outputs": [
    {
     "data": {
      "image/png": "[encoded data removed]",
      "text/plain": [
       "<matplotlib.figure.Figure at 0x7efce40dbb50>"
      ]
     },
     "metadata": {},
     "output_type": "display_data"
    }
   ],
   "source": [
    "clf = manifold.MDS(n_components=2, metric=True, n_init=1, max_iter=100)\n",
    "X_mds = clf.fit_transform(hists)\n",
    "# Plot MDS with 4 classes \n",
    "plt.figure()\n",
    "colors = ['b', 'g', 'r', 'c', 'm', 'y']\n",
    "for i in range(np.unique(labels).size):\n",
    "    indices = np.where(labels==i)\n",
    "    plt.scatter(X_mds[indices,0], X_mds[indices,1], c=colors[i])\n",
    "plt.legend([le.inverse_transform(i) for i in\\\n",
    "            range(np.unique(labels).size)], loc='lower left')\n",
    "plt.title('MDS of color histograms')\n",
    "plt.xlabel('1st component')\n",
    "plt.ylabel('2nd component')\n",
    "plt.show()"
   ]
  },
  {
   "cell_type": "markdown",
   "metadata": {},
   "source": [
    "### Random trees embedding"
   ]
  },
  {
   "cell_type": "code",
   "execution_count": 69,
   "metadata": {
    "collapsed": true
   },
   "outputs": [],
   "source": [
    "from sklearn import ensemble"
   ]
  },
  {
   "cell_type": "code",
   "execution_count": 70,
   "metadata": {
    "collapsed": false
   },
   "outputs": [
    {
     "data": {
      "image/png": "[encoded data removed]",
      "text/plain": [
       "<matplotlib.figure.Figure at 0x7efcdf7a0950>"
      ]
     },
     "metadata": {},
     "output_type": "display_data"
    }
   ],
   "source": [
    "hasher = ensemble.RandomTreesEmbedding(n_estimators=200, random_state=0,\\\n",
    "                                      max_depth=5)\n",
    "X_transformed = hasher.fit_transform(hists)\n",
    "pca = decomposition.TruncatedSVD(n_components=2)\n",
    "X_reduced = pca.fit_transform(X_transformed)\n",
    "# Plot random trees embedding with 4 classes \n",
    "plt.figure()\n",
    "colors = ['b', 'g', 'r', 'c', 'm', 'y']\n",
    "for i in range(np.unique(labels).size):\n",
    "    indices = np.where(labels==i)\n",
    "    plt.scatter(X_reduced[indices,0], X_reduced[indices,1], c=colors[i])\n",
    "plt.legend([le.inverse_transform(i) for i in\\\n",
    "            range(np.unique(labels).size)], loc='upper right')\n",
    "plt.title('Random tress embedding of color histograms')\n",
    "plt.xlabel('1st component')\n",
    "plt.ylabel('2nd component')\n",
    "plt.show()"
   ]
  },
  {
   "cell_type": "markdown",
   "metadata": {},
   "source": [
    "### t-distributed Stochastic Neighbor Embedding (t-SNE)"
   ]
  },
  {
   "cell_type": "code",
   "execution_count": 75,
   "metadata": {
    "collapsed": false
   },
   "outputs": [
    {
     "data": {
      "image/png": "[encoded data removed]",
      "text/plain": [
       "<matplotlib.figure.Figure at 0x7efcdf8a4990>"
      ]
     },
     "metadata": {},
     "output_type": "display_data"
    }
   ],
   "source": [
    "tsne = manifold.TSNE(n_components=2, init='pca', random_state=0)\n",
    "X_tsne = tsne.fit_transform(hists)\n",
    "# Plot t-SNE with 4 classes \n",
    "plt.figure()\n",
    "colors = ['b', 'g', 'r', 'c', 'm', 'y']\n",
    "for i in range(np.unique(labels).size):\n",
    "    indices = np.where(labels==i)\n",
    "    plt.scatter(X_tsne[indices,0], X_tsne[indices,1], c=colors[i])\n",
    "plt.legend([le.inverse_transform(i) for i in\\\n",
    "            range(np.unique(labels).size)], loc='upper right')\n",
    "plt.title('t-SNE of color histograms')\n",
    "plt.xlabel('1st component')\n",
    "plt.ylabel('2nd component')\n",
    "plt.show()"
   ]
  },
  {
   "cell_type": "markdown",
   "metadata": {},
   "source": [
    "From these plots of different low-dimensional representations of our data, it seems like both PCA and LDA, despite being simpler procedures, seem to work the best at separating out images of roofs. It seems like we might be able to do some kind of k-nearest neighbors classification on test images and do relatively well."
   ]
  },
  {
   "cell_type": "markdown",
   "metadata": {},
   "source": [
    "## Classification\n",
    "Let's try out some simple classifiers on our data and see if we can classify our image samples just using the color histograms. If we can't do this, then it is unlikely that we'll be able to find houses in our actual satellite images."
   ]
  },
  {
   "cell_type": "markdown",
   "metadata": {},
   "source": [
    "### k-Nearest Neighbors"
   ]
  },
  {
   "cell_type": "code",
   "execution_count": 76,
   "metadata": {
    "collapsed": true
   },
   "outputs": [],
   "source": [
    "from sklearn import neighbors"
   ]
  },
  {
   "cell_type": "code",
   "execution_count": 150,
   "metadata": {
    "collapsed": true
   },
   "outputs": [],
   "source": [
    "# Mix up the data\n",
    "perm = np.random.permutation(labels.size)\n",
    "hists = hists[perm]\n",
    "labels = labels[perm]"
   ]
  },
  {
   "cell_type": "code",
   "execution_count": 172,
   "metadata": {
    "collapsed": false
   },
   "outputs": [
    {
     "name": "stdout",
     "output_type": "stream",
     "text": [
      "Overall classification accuracy: 0.8125\n"
     ]
    }
   ],
   "source": [
    "# Create and fit a nearest-neighbor classifier\n",
    "n_neighbors = 5\n",
    "knn = neighbors.KNeighborsClassifier(n_neighbors=n_neighbors)\n",
    "# Train on first 200 out of 280 observations\n",
    "knn.fit(hists[:200], labels[:200])\n",
    "# Test on observations 201-280\n",
    "accuracy = knn.score(hists[200:], labels[200:])\n",
    "print 'Overall classification accuracy: {}'.format(accuracy)"
   ]
  },
  {
   "cell_type": "code",
   "execution_count": 173,
   "metadata": {
    "collapsed": false
   },
   "outputs": [],
   "source": [
    "# Predict labels for test set\n",
    "label_predictions = knn.predict(hists[200:])\n",
    "label_probs = knn.predict_proba(hists[200:])\n",
    "correct = label_predictions==labels[200:]"
   ]
  },
  {
   "cell_type": "code",
   "execution_count": 174,
   "metadata": {
    "collapsed": false,
    "scrolled": true
   },
   "outputs": [],
   "source": [
    "# Comparing predictions to actual labels for test set\n",
    "yhat = le.inverse_transform(label_predictions)\n",
    "y = le.inverse_transform(labels[200:])\n",
    "comp = np.concatenate((np.array([y]).transpose(),\\\n",
    "                       np.array([yhat]).transpose(),\\\n",
    "                       np.array([correct]).transpose(),\\\n",
    "                       label_probs), axis=1)\n",
    "comp = pd.DataFrame(comp)\n",
    "comp.columns = ['label', 'predicted label', 'correct', 'dirt', 'roof',\\\n",
    "                'vegetation', 'water']"
   ]
  },
  {
   "cell_type": "code",
   "execution_count": 175,
   "metadata": {
    "collapsed": false
   },
   "outputs": [
    {
     "name": "stdout",
     "output_type": "stream",
     "text": [
      "Out of 24 roofs:\n",
      "    - 19 classified correctly\n",
      "    - 5 classified incorrectly\n",
      "Out of 56 nonroofs:\n",
      "    - 53 classified correctly as nonroofs\n",
      "    - 3 classified incorrectly as roofs\n"
     ]
    }
   ],
   "source": [
    "# Analyzing results of classification\n",
    "is_roof = comp['label'] == 'roof'\n",
    "roof_labels = comp[is_roof]['correct'].value_counts()\n",
    "true_positive = roof_labels[True]\n",
    "false_negative = roof_labels[False]\n",
    "not_roof = comp['label'] != 'roof'\n",
    "nonroof_labels = comp[not_roof]['predicted label'].value_counts()\n",
    "false_positive = nonroof_labels['roof']\n",
    "true_negative = nonroof_labels.sum() - false_positive\n",
    "# Print correct and incorrect prediction counts\n",
    "print 'Out of {} roofs:'.format(true_positive + false_negative)\n",
    "print '    - {} classified correctly'.format(true_positive)\n",
    "print '    - {} classified incorrectly'.format(false_negative)\n",
    "print 'Out of {} nonroofs:'.format(false_positive + true_negative)\n",
    "print '    - {} classified correctly as nonroofs'.format(true_negative)\n",
    "print '    - {} classified incorrectly as roofs'.format(false_positive)"
   ]
  },
  {
   "cell_type": "markdown",
   "metadata": {},
   "source": [
    "### Support vector machines (SVMs)"
   ]
  },
  {
   "cell_type": "markdown",
   "metadata": {},
   "source": [
    "#### Linear SVMs"
   ]
  },
  {
   "cell_type": "code",
   "execution_count": 135,
   "metadata": {
    "collapsed": true
   },
   "outputs": [],
   "source": [
    "from sklearn import svm"
   ]
  },
  {
   "cell_type": "code",
   "execution_count": 136,
   "metadata": {
    "collapsed": false
   },
   "outputs": [
    {
     "data": {
      "text/plain": [
       "0.78749999999999998"
      ]
     },
     "execution_count": 136,
     "metadata": {},
     "output_type": "execute_result"
    }
   ],
   "source": [
    "svc = svm.SVC(kernel='linear')\n",
    "# Train on first 200 out of 280 observations\n",
    "svc.fit(hists[:200], labels[:200])\n",
    "# Test on observations 201-280\n",
    "svc.score(hists[200:], labels[200:])"
   ]
  },
  {
   "cell_type": "code",
   "execution_count": 137,
   "metadata": {
    "collapsed": false
   },
   "outputs": [],
   "source": [
    "# Predict labels for test set\n",
    "label_predictions = svc.predict(hists[200:])\n",
    "correct = label_predictions==labels[200:]"
   ]
  },
  {
   "cell_type": "code",
   "execution_count": 139,
   "metadata": {
    "collapsed": false
   },
   "outputs": [
    {
     "name": "stdout",
     "output_type": "stream",
     "text": [
      "Out of 22 roofs:\n",
      "    - 19 classified correctly\n",
      "    - 3 classified incorrectly\n",
      "Out of 58 nonroofs:\n",
      "    - 54 classified correctly as nonroofs\n",
      "    - 4 classified incorrectly as roofs\n"
     ]
    }
   ],
   "source": [
    "# Comparing predictions to actual labels for test set\n",
    "yhat = le.inverse_transform(label_predictions)\n",
    "y = le.inverse_transform(labels[200:])\n",
    "comp = np.concatenate((np.array([y]).transpose(),\\\n",
    "                       np.array([yhat]).transpose(),\\\n",
    "                       np.array([correct]).transpose()), axis=1)\n",
    "comp = pd.DataFrame(comp)\n",
    "comp.columns = ['label', 'predicted label', 'correct']\n",
    "# Analyzing results of classification\n",
    "is_roof = comp['label'] == 'roof'\n",
    "roof_labels = comp[is_roof]['correct'].value_counts()\n",
    "true_positive = roof_labels[True]\n",
    "false_negative = roof_labels[False]\n",
    "not_roof = comp['label'] != 'roof'\n",
    "nonroof_labels = comp[not_roof]['predicted label'].value_counts()\n",
    "false_positive = nonroof_labels['roof']\n",
    "true_negative = nonroof_labels.sum() - false_positive\n",
    "# Print correct and incorrect prediction counts\n",
    "print 'Out of {} roofs:'.format(true_positive + false_negative)\n",
    "print '    - {} classified correctly'.format(true_positive)\n",
    "print '    - {} classified incorrectly'.format(false_negative)\n",
    "print 'Out of {} nonroofs:'.format(false_positive + true_negative)\n",
    "print '    - {} classified correctly as nonroofs'.format(true_negative)\n",
    "print '    - {} classified incorrectly as roofs'.format(false_positive)\n",
    "print 'Classificaion accuracy: {}'.format()"
   ]
  },
  {
   "cell_type": "markdown",
   "metadata": {},
   "source": [
    "#### Nonlinear SVMs (kernels)"
   ]
  },
  {
   "cell_type": "code",
   "execution_count": 147,
   "metadata": {
    "collapsed": false
   },
   "outputs": [
    {
     "data": {
      "text/plain": [
       "0.20000000000000001"
      ]
     },
     "execution_count": 147,
     "metadata": {},
     "output_type": "execute_result"
    }
   ],
   "source": [
    "# Polynomial kernel\n",
    "svc1 = svm.SVC(kernel='poly', degree=3)\n",
    "svc1.fit(hists[:200], labels[:200])\n",
    "svc1.score(hists[200:], labels[200:])"
   ]
  },
  {
   "cell_type": "code",
   "execution_count": 142,
   "metadata": {
    "collapsed": false
   },
   "outputs": [
    {
     "data": {
      "text/plain": [
       "0.42499999999999999"
      ]
     },
     "execution_count": 142,
     "metadata": {},
     "output_type": "execute_result"
    }
   ],
   "source": [
    "# Radial basis function (RBF) kernel\n",
    "svc2 = svm.SVC(kernel='rbf')\n",
    "svc2.fit(hists[:200], labels[:200])\n",
    "svc2.score(hists[200:], labels[200:])"
   ]
  },
  {
   "cell_type": "code",
   "execution_count": null,
   "metadata": {
    "collapsed": true
   },
   "outputs": [],
   "source": []
  },
  {
   "cell_type": "code",
   "execution_count": null,
   "metadata": {
    "collapsed": true
   },
   "outputs": [],
   "source": []
  },
  {
   "cell_type": "code",
   "execution_count": null,
   "metadata": {
    "collapsed": true
   },
   "outputs": [],
   "source": []
  },
  {
   "cell_type": "code",
   "execution_count": null,
   "metadata": {
    "collapsed": true
   },
   "outputs": [],
   "source": []
  }
 ],
 "metadata": {
  "kernelspec": {
   "display_name": "Python 2",
   "language": "python",
   "name": "python2"
  },
  "language_info": {
   "codemirror_mode": {
    "name": "ipython",
    "version": 2
   },
   "file_extension": ".py",
   "mimetype": "text/x-python",
   "name": "python",
   "nbconvert_exporter": "python",
   "pygments_lexer": "ipython2",
   "version": "2.7.6"
  }
 },
 "nbformat": 4,
 "nbformat_minor": 0
}
