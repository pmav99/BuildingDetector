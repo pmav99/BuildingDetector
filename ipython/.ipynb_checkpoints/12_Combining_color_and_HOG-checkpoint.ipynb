{
 "cells": [
  {
   "cell_type": "markdown",
   "metadata": {},
   "source": [
    "# Combining Color Histograms and HOG\n",
    "In this notebook, I'll try out some different strategies for combining color histogram and HOG features for classification. There are several options for combining the two, including combining the feature vectors into one or having two steps in the classification process.\n",
    "\n",
    "Before getting into that, I'll follow Kevin's suggestion and try clustering my roof samples to see if there are clear boundaries between different subclasses of roofs. If there are, then maybe I should have different classifiers to identify each subclass."
   ]
  },
  {
   "cell_type": "code",
   "execution_count": 1,
   "metadata": {
    "collapsed": false
   },
   "outputs": [],
   "source": [
    "from utils import *\n",
    "from features import *\n",
    "import numpy as np\n",
    "import pandas as pd\n",
    "import matplotlib.pyplot as plt\n",
    "from time import time\n",
    "from sklearn import decomposition\n",
    "\n",
    "%matplotlib inline"
   ]
  },
  {
   "cell_type": "code",
   "execution_count": 2,
   "metadata": {
    "collapsed": true
   },
   "outputs": [],
   "source": [
    "# Import image data\n",
    "csv_in = '../data/imageData.csv'\n",
    "hists, labels, le = import_image_data(csv_in)"
   ]
  },
  {
   "cell_type": "code",
   "execution_count": 3,
   "metadata": {
    "collapsed": false
   },
   "outputs": [],
   "source": [
    "# Get only roof data\n",
    "indices = np.where(labels==1)\n",
    "hists = hists[indices[0],:]\n",
    "labels = labels[indices[0]]"
   ]
  },
  {
   "cell_type": "code",
   "execution_count": 4,
   "metadata": {
    "collapsed": true
   },
   "outputs": [],
   "source": [
    "# Calculate the 1st 2 PCA components\n",
    "pca = decomposition.PCA(n_components=2)\n",
    "pca.fit(hists)\n",
    "X = pca.transform(hists)"
   ]
  },
  {
   "cell_type": "code",
   "execution_count": 5,
   "metadata": {
    "collapsed": false
   },
   "outputs": [
    {
     "data": {
      "image/png": "[encoded data removed]",
      "text/plain": [
       "<matplotlib.figure.Figure at 0x7f6b3a03a050>"
      ]
     },
     "metadata": {},
     "output_type": "display_data"
    }
   ],
   "source": [
    "# Plot PCA decomposition of roof samples only\n",
    "plt.figure()\n",
    "plt.scatter(X[:,0], X[:,1])\n",
    "plt.title('PCA of roof sample color histograms')\n",
    "plt.xlabel('1st component')\n",
    "plt.ylabel('2nd component')\n",
    "plt.show()"
   ]
  },
  {
   "cell_type": "markdown",
   "metadata": {},
   "source": [
    "There doesn't seem to be a real obvious way to cluster the roofs in our sample training set - let's come back to this later."
   ]
  },
  {
   "cell_type": "markdown",
   "metadata": {},
   "source": [
    "## Saving training data\n",
    "The first thing that we need to do is compute color histograms, HOG features, and gradient magnitude histograms and store them in a pandas dataframe to be written to csv. I'd like to automate this processs so that I can just give the function a directory containing all of my training samples and it'll figure out which classes are there by looking at the names of the folders."
   ]
  },
  {
   "cell_type": "code",
   "execution_count": 15,
   "metadata": {
    "collapsed": true
   },
   "outputs": [],
   "source": [
    "import glob\n",
    "import os"
   ]
  },
  {
   "cell_type": "code",
   "execution_count": 16,
   "metadata": {
    "collapsed": true
   },
   "outputs": [],
   "source": [
    "sample_dir = '../images/samples/'\n",
    "csv_out = '../data/all_image_data.csv'"
   ]
  },
  {
   "cell_type": "code",
   "execution_count": 30,
   "metadata": {
    "collapsed": true
   },
   "outputs": [],
   "source": [
    "# Setting column names of dataframe\n",
    "columns = ['class', 'imageID', 'filename', 'width', 'height']\n",
    "columns = columns + ['color' + str(i + 1) for i in range(48)]\n",
    "columns = columns + ['hog' + str(i + 1) for i in range(9)]\n",
    "columns = columns + ['mag' + str(i + 1) for i in range(16)]"
   ]
  },
  {
   "cell_type": "code",
   "execution_count": 31,
   "metadata": {
    "collapsed": true
   },
   "outputs": [],
   "source": [
    "# Create data frame for image data\n",
    "image_data = pd.DataFrame(columns=columns)"
   ]
  },
  {
   "cell_type": "code",
   "execution_count": 32,
   "metadata": {
    "collapsed": false
   },
   "outputs": [
    {
     "name": "stdout",
     "output_type": "stream",
     "text": [
      "../images/samples/roofs\n",
      "Processed 70 images for roofs class.\n",
      "../images/samples/water\n",
      "Processed 70 images for water class.\n",
      "../images/samples/vegetation\n",
      "Processed 70 images for vegetation class.\n",
      "../images/samples/dirt\n",
      "Processed 70 images for dirt class.\n",
      "Processed 280 images total in 34.754201889 seconds.\n"
     ]
    }
   ],
   "source": [
    "# Keep track of total images processed\n",
    "count_total = 0\n",
    "start_time = time()\n",
    "# Search sample directory for all sample class subdirectories\n",
    "for class_dir in glob.iglob(sample_dir + '*'):\n",
    "    # Get class name\n",
    "    class_name = os.path.basename(class_dir)\n",
    "    # Add data for each image in class subdirectory\n",
    "    count_class = 0\n",
    "    for image_path in glob.iglob(class_dir + '/*.png'):\n",
    "        # Get image basename with extension\n",
    "        image_fn = os.path.basename(image_path)\n",
    "        # Get image ID\n",
    "        imageID = image_fn[:-4]\n",
    "        # Read in image and get dimensions\n",
    "        image = cv2.imread(image_path)\n",
    "        h, w = image.shape[:2]\n",
    "        # Calculate color histogram\n",
    "        color = calc_color_hist(image)\n",
    "        color = np.transpose(color)\n",
    "        # Create color histogram dataframe\n",
    "        color_df = pd.DataFrame(color)\n",
    "        col_names = list(color_df.columns.values)\n",
    "        new_names = ['color' + str(i + 1) for i in col_names]\n",
    "        color_df.columns = new_names\n",
    "        # Calculate hog and gradient magnitude features\n",
    "        (hog, hog_bins, mag, mag_bins, max_mag) = compute_hog(image)\n",
    "        hog = hog.reshape(1, hog.size)\n",
    "        mag = mag.reshape(1, mag.size)\n",
    "        # Create hog dataframe\n",
    "        hog_df = pd.DataFrame(hog)\n",
    "        col_names = list(hog_df.columns.values)\n",
    "        new_names = ['hog' + str(i + 1) for i in col_names]\n",
    "        hog_df.columns = new_names\n",
    "        # Create gradient magnitude dataframe\n",
    "        mag_df = pd.DataFrame(mag)\n",
    "        col_names = list(mag_df.columns.values)\n",
    "        new_names = ['mag' + str(i + 1) for i in col_names]\n",
    "        mag_df.columns = new_names\n",
    "        # Create dataframe for image\n",
    "        img_data = pd.DataFrame({'class': [class_name], 'imageID':\\\n",
    "                                 [imageID], 'filename': [image_fn],\\\n",
    "                                 'width': [w], 'height': [h]})\n",
    "        img_data = pd.concat([img_data, color_df, hog_df, mag_df],\\\n",
    "                           axis=1)\n",
    "        # Add new image data to image dataframe and continue indexing\n",
    "        image_data = image_data.append(img_data, ignore_index=True)\n",
    "        count_total += 1\n",
    "        count_class += 1\n",
    "    # Print update for class\n",
    "    print 'Processed {} images for {} class.'.format(count_class,\\\n",
    "                                                     class_name)\n",
    "\n",
    "end_time = time()\n",
    "print 'Processed {} images total in {} seconds.'.format(count_total,\\\n",
    "                                            (end_time - start_time))"
   ]
  },
  {
   "cell_type": "code",
   "execution_count": 33,
   "metadata": {
    "collapsed": true
   },
   "outputs": [],
   "source": [
    "# Drop rows with duplicated information\n",
    "image_data.drop_duplicates(['class', 'filename'], inplace=True)\n",
    "# Reorganize columns\n",
    "image_data = image_data[columns]\n",
    "# Writing image data to csv\n",
    "image_data.to_csv(csv_out)"
   ]
  },
  {
   "cell_type": "markdown",
   "metadata": {},
   "source": [
    "Right now it takes ~35 seconds to process 280 training samples. Let's put all of this code into one function so that in the future we can easily recompute image data for all of our training samples:"
   ]
  },
  {
   "cell_type": "code",
   "execution_count": null,
   "metadata": {
    "collapsed": true
   },
   "outputs": [],
   "source": [
    "import numpy as np\n",
    "import pandas as pd\n",
    "import glob\n",
    "from time import time\n",
    "import matplotlib.pyplot as plt\n",
    "import os"
   ]
  },
  {
   "cell_type": "code",
   "execution_count": 50,
   "metadata": {
    "collapsed": true
   },
   "outputs": [],
   "source": [
    "def process_image(image_path, class_name, image_data):\n",
    "    \"\"\"\n",
    "    This function process one image and adds its data to the dataframe\n",
    "    containing all of the training image data.\n",
    "    :param image_path: Path to image to process\n",
    "    :param class_name: Class of image sample\n",
    "    :param image_data: Dataframe containing training data\n",
    "    :returns: Dataframe containing new image data\n",
    "    \"\"\"\n",
    "    # Get image basename with extension\n",
    "    image_fn = os.path.basename(image_path)\n",
    "    # Get image ID\n",
    "    imageID = image_fn[:-4]\n",
    "    \n",
    "    # Read in image and get dimensions\n",
    "    image = cv2.imread(image_path)\n",
    "    h, w = image.shape[:2]\n",
    "    \n",
    "    # Calculate color histogram\n",
    "    color = calc_color_hist(image)\n",
    "    color = np.transpose(color)\n",
    "    # Create color histogram dataframe\n",
    "    color_df = pd.DataFrame(color)\n",
    "    col_names = list(color_df.columns.values)\n",
    "    new_names = ['color' + str(i + 1) for i in col_names]\n",
    "    color_df.columns = new_names\n",
    "    \n",
    "    # Calculate hog and gradient magnitude features\n",
    "    (hog, hog_bins, mag, mag_bins, max_mag) = compute_hog(image)\n",
    "    hog = hog.reshape(1, hog.size)\n",
    "    mag = mag.reshape(1, mag.size)\n",
    "    # Create hog dataframe\n",
    "    hog_df = pd.DataFrame(hog)\n",
    "    col_names = list(hog_df.columns.values)\n",
    "    new_names = ['hog' + str(i + 1) for i in col_names]\n",
    "    hog_df.columns = new_names\n",
    "    \n",
    "    # Create gradient magnitude dataframe\n",
    "    mag_df = pd.DataFrame(mag)\n",
    "    col_names = list(mag_df.columns.values)\n",
    "    new_names = ['mag' + str(i + 1) for i in col_names]\n",
    "    mag_df.columns = new_names\n",
    "    \n",
    "    # Create dataframe for image\n",
    "    img_data = pd.DataFrame({'class': [class_name], 'imageID':\\\n",
    "                             [imageID], 'filename': [image_fn],\\\n",
    "                             'width': [w], 'height': [h]})\n",
    "    img_data = pd.concat([img_data, color_df, hog_df, mag_df],\\\n",
    "                       axis=1)\n",
    "    \n",
    "    # Add new image data to image dataframe and continue indexing\n",
    "    return image_data.append(img_data, ignore_index=True)"
   ]
  },
  {
   "cell_type": "code",
   "execution_count": 51,
   "metadata": {
    "collapsed": true
   },
   "outputs": [],
   "source": [
    "def store_image_data(image_dir, csv_out):\n",
    "    \"\"\"\n",
    "    This function goes through each of the class sample directories\n",
    "    within the samples directory and computes color histogram and HOG\n",
    "    features for each image within, then writes the data to a csv file\n",
    "    for later use.\n",
    "    :param image_dir: Path to the directory containing image samples\n",
    "    :param csv_out: Path of output csv file containing data\n",
    "    \"\"\"\n",
    "    start_time = time()\n",
    "    \n",
    "    # Setting column names of dataframe\n",
    "    columns = ['class', 'imageID', 'filename', 'width', 'height']\n",
    "    columns = columns + ['color' + str(i + 1) for i in range(48)]\n",
    "    columns = columns + ['hog' + str(i + 1) for i in range(9)]\n",
    "    columns = columns + ['mag' + str(i + 1) for i in range(16)]\n",
    "    \n",
    "    # Create data frame for image data\n",
    "    image_data = pd.DataFrame(columns=columns)\n",
    "    \n",
    "    # Keep track of total images processed\n",
    "    count_total = 0\n",
    "    \n",
    "    # Search sample directory for all sample class subdirectories\n",
    "    for class_dir in glob.iglob(sample_dir + '*'):\n",
    "        # Get class name\n",
    "        class_name = os.path.basename(class_dir)\n",
    "        # Add data for each image in class subdirectory\n",
    "        count_class = 0\n",
    "        for image_path in glob.iglob(class_dir + '/*.png'):\n",
    "            # Add data for each image\n",
    "            image_data = process_image(image_path, class_name,\\\n",
    "                                       image_data)\n",
    "            count_total += 1\n",
    "            count_class += 1\n",
    "        # Print update for class\n",
    "        print 'Processed {} images for {} class.'.format(count_class,\\\n",
    "                                                         class_name)\n",
    "    \n",
    "    # Drop rows with duplicated information\n",
    "    image_data.drop_duplicates(['class', 'filename'], inplace=True)\n",
    "    # Reorganize columns\n",
    "    image_data = image_data[columns]\n",
    "    # Writing image data to csv\n",
    "    image_data.to_csv(csv_out)\n",
    "    end_time = time()\n",
    "    print 'Processed {} images total in {} seconds.'.format(count_total,\\\n",
    "                                                (end_time - start_time))"
   ]
  },
  {
   "cell_type": "markdown",
   "metadata": {},
   "source": [
    "Let's test out the function!"
   ]
  },
  {
   "cell_type": "code",
   "execution_count": 52,
   "metadata": {
    "collapsed": false
   },
   "outputs": [
    {
     "name": "stdout",
     "output_type": "stream",
     "text": [
      "Processed 70 images for roofs class.\n",
      "Processed 70 images for water class.\n",
      "Processed 70 images for vegetation class.\n",
      "Processed 70 images for dirt class.\n",
      "Processed 280 images total in 34.5588610172 seconds.\n"
     ]
    }
   ],
   "source": [
    "store_image_data(sample_dir, csv_out)"
   ]
  },
  {
   "cell_type": "markdown",
   "metadata": {},
   "source": [
    "It works!"
   ]
  },
  {
   "cell_type": "code",
   "execution_count": null,
   "metadata": {
    "collapsed": true
   },
   "outputs": [],
   "source": []
  },
  {
   "cell_type": "code",
   "execution_count": null,
   "metadata": {
    "collapsed": true
   },
   "outputs": [],
   "source": []
  },
  {
   "cell_type": "code",
   "execution_count": null,
   "metadata": {
    "collapsed": true
   },
   "outputs": [],
   "source": []
  }
 ],
 "metadata": {
  "kernelspec": {
   "display_name": "Python 2",
   "language": "python",
   "name": "python2"
  },
  "language_info": {
   "codemirror_mode": {
    "name": "ipython",
    "version": 2
   },
   "file_extension": ".py",
   "mimetype": "text/x-python",
   "name": "python",
   "nbconvert_exporter": "python",
   "pygments_lexer": "ipython2",
   "version": "2.7.6"
  }
 },
 "nbformat": 4,
 "nbformat_minor": 0
}
