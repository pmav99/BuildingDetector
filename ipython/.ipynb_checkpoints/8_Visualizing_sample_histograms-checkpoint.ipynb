{
 "cells": [
  {
   "cell_type": "markdown",
   "metadata": {
    "collapsed": true
   },
   "source": [
    "# Visualizing Sample Color Histograms\n",
    "In notebook 6 of this project, I collected a bunch of sample images of different classes of objects (roofs, water, etc.) and plotted their color histograms. In this notebook, I'll try to calculate color histograms for each of my samples and then use dimensionality reduction to visualize the distribution."
   ]
  },
  {
   "cell_type": "code",
   "execution_count": 36,
   "metadata": {
    "collapsed": true
   },
   "outputs": [],
   "source": [
    "import numpy as np\n",
    "import pandas as pd\n",
    "import matplotlib.pyplot as plt\n",
    "from time import time\n",
    "import os\n",
    "import glob\n",
    "import cv2\n",
    "from color_histograms import *\n",
    "import IPython.display\n",
    "\n",
    "%matplotlib inline"
   ]
  },
  {
   "cell_type": "markdown",
   "metadata": {},
   "source": [
    "## Creating Pandas data structures\n",
    "The first thing that we need to do is figure out how to store our data in Pandas data structures so that we can save them to spreadsheets for later use."
   ]
  },
  {
   "cell_type": "code",
   "execution_count": 307,
   "metadata": {
    "collapsed": true
   },
   "outputs": [],
   "source": [
    "# Create data frame for image data\n",
    "imageData = pd.DataFrame(columns=['class', 'imageID', 'filename',\\\n",
    "                                  'width', 'height', 'hist1', 'hist2',\\\n",
    "                                  'hist3', 'hist4', 'hist5', 'hist6',\\\n",
    "                                  'hist7', 'hist8', 'hist9', 'hist10',\\\n",
    "                                  'hist11', 'hist12', 'hist13', 'hist14',\\\n",
    "                                  'hist15', 'hist16', 'hist17', 'hist18',\\\n",
    "                                  'hist19', 'hist20', 'hist21', 'hist22',\\\n",
    "                                  'hist23', 'hist24', 'hist25', 'hist26',\\\n",
    "                                  'hist27', 'hist28', 'hist29', 'hist30',\\\n",
    "                                  'hist31', 'hist32', 'hist33', 'hist34',\\\n",
    "                                  'hist35', 'hist36', 'hist37', 'hist38',\\\n",
    "                                  'hist39', 'hist40', 'hist41', 'hist42',\\\n",
    "                                  'hist43', 'hist44', 'hist45', 'hist46',\\\n",
    "                                  'hist47', 'hist48'])"
   ]
  },
  {
   "cell_type": "code",
   "execution_count": 308,
   "metadata": {
    "collapsed": true
   },
   "outputs": [],
   "source": [
    "# Directories containing samples\n",
    "imageDir = '../images/'\n",
    "samplesDir = imageDir + 'samples/'\n",
    "roofsDir = samplesDir + 'roofs/'\n",
    "waterDir = samplesDir + 'water/'\n",
    "vegDir = samplesDir + 'vegetation/'"
   ]
  },
  {
   "cell_type": "markdown",
   "metadata": {},
   "source": [
    "Let's start with the **roof** class:"
   ]
  },
  {
   "cell_type": "code",
   "execution_count": 309,
   "metadata": {
    "collapsed": true
   },
   "outputs": [],
   "source": [
    "className = 'roof'"
   ]
  },
  {
   "cell_type": "code",
   "execution_count": 310,
   "metadata": {
    "collapsed": false,
    "scrolled": true
   },
   "outputs": [
    {
     "name": "stdout",
     "output_type": "stream",
     "text": [
      "Processed 16 images in total\n"
     ]
    }
   ],
   "source": [
    "# Iterate through images in directory and add image data to DataFrame\n",
    "count = 0\n",
    "for imagePath in glob.iglob(roofsDir + '*.png'):\n",
    "    count += 1\n",
    "    #print 'Processing image {}'.format(count)\n",
    "    # Get image basename with extension\n",
    "    imageFn = os.path.basename(imagePath)\n",
    "    # Get image ID\n",
    "    imageID = imageFn[:-4]\n",
    "    # Read in image and get dimensions\n",
    "    image = cv2.imread(imagePath)\n",
    "    h, w = image.shape[:2]\n",
    "    # Calculate color histogram\n",
    "    hist = calc_color_hist(image, bins=16)\n",
    "    hist = np.transpose(hist)\n",
    "    # Create temporary histogram DataFrame\n",
    "    histdf = pd.DataFrame(hist)\n",
    "    colNames = list(histdf.columns.values)\n",
    "    tempNames = [str(i+1) for i in colNames]\n",
    "    newNames = ['hist' + i for i in tempNames]\n",
    "    histdf.columns = newNames\n",
    "    # Add to DataFrame\n",
    "    img_data = pd.DataFrame({'class': [className], 'imageID': [imageID],\\\n",
    "                             'filename': [imageFn], 'width': [w],\\\n",
    "                             'height': [h]})\n",
    "    # Add histogram DataFrame\n",
    "    img_data = pd.concat([img_data, histdf], axis=1)\n",
    "    # Continues indexing\n",
    "    imageData = imageData.append(img_data, ignore_index=True)\n",
    "print 'Processed {} images in total'.format(count)"
   ]
  },
  {
   "cell_type": "code",
   "execution_count": 311,
   "metadata": {
    "collapsed": false
   },
   "outputs": [],
   "source": [
    "# Drop any rows with duplicated information\n",
    "imageData.drop_duplicates(['class', 'imageID'], inplace=True)\n",
    "# Reorganize columns\n",
    "imageData = imageData[['class', 'imageID', 'filename',\\\n",
    "                       'width', 'height', 'hist1', 'hist2',\\\n",
    "                       'hist3', 'hist4', 'hist5', 'hist6',\\\n",
    "                       'hist7', 'hist8', 'hist9', 'hist10',\\\n",
    "                       'hist11', 'hist12', 'hist13', 'hist14',\\\n",
    "                       'hist15', 'hist16', 'hist17', 'hist18',\\\n",
    "                       'hist19', 'hist20', 'hist21', 'hist22',\\\n",
    "                       'hist23', 'hist24', 'hist25', 'hist26',\\\n",
    "                       'hist27', 'hist28', 'hist29', 'hist30',\\\n",
    "                       'hist31', 'hist32', 'hist33', 'hist34',\\\n",
    "                       'hist35', 'hist36', 'hist37', 'hist38',\\\n",
    "                       'hist39', 'hist40', 'hist41', 'hist42',\\\n",
    "                       'hist43', 'hist44', 'hist45', 'hist46',\\\n",
    "                       'hist47', 'hist48']]"
   ]
  },
  {
   "cell_type": "code",
   "execution_count": 312,
   "metadata": {
    "collapsed": true
   },
   "outputs": [],
   "source": [
    "# Writing image data to csv\n",
    "dataDir = '../data/'\n",
    "imageDataFn = dataDir + 'imageData.csv'\n",
    "imageData.to_csv(imageDataFn)"
   ]
  },
  {
   "cell_type": "markdown",
   "metadata": {},
   "source": [
    "Now that we've saved the roof samples data to a spreadsheet, we want to be able to load the data from the spreadsheet and add data for the vegetation samples and the water samples."
   ]
  },
  {
   "cell_type": "code",
   "execution_count": 313,
   "metadata": {
    "collapsed": true
   },
   "outputs": [],
   "source": [
    "# Loading image data from csv\n",
    "imageData = pd.read_csv(imageDataFn)\n",
    "imageData.drop('Unnamed: 0', axis=1, inplace=True)"
   ]
  },
  {
   "cell_type": "code",
   "execution_count": 314,
   "metadata": {
    "collapsed": false
   },
   "outputs": [
    {
     "name": "stdout",
     "output_type": "stream",
     "text": [
      "Processed 14 images in total\n"
     ]
    }
   ],
   "source": [
    "# Adding water samples\n",
    "className = 'water'\n",
    "\n",
    "# Iterate through images in directory and add image data to DataFrame\n",
    "count = 0\n",
    "for imagePath in glob.iglob(waterDir + '*.png'):\n",
    "    count += 1\n",
    "    #print 'Processing image {}'.format(count)\n",
    "    # Get image basename with extension\n",
    "    imageFn = os.path.basename(imagePath)\n",
    "    # Get image ID\n",
    "    imageID = imageFn[:-4]\n",
    "    # Read in image and get dimensions\n",
    "    image = cv2.imread(imagePath)\n",
    "    h, w = image.shape[:2]\n",
    "    # Calculate color histogram\n",
    "    hist = calc_color_hist(image, bins=16)\n",
    "    hist = np.transpose(hist)\n",
    "    # Create temporary histogram DataFrame\n",
    "    histdf = pd.DataFrame(hist)\n",
    "    colNames = list(histdf.columns.values)\n",
    "    tempNames = [str(i+1) for i in colNames]\n",
    "    newNames = ['hist' + i for i in tempNames]\n",
    "    histdf.columns = newNames\n",
    "    # Add to DataFrame\n",
    "    img_data = pd.DataFrame({'class': [className], 'imageID': [imageID],\\\n",
    "                             'filename': [imageFn], 'width': [w],\\\n",
    "                             'height': [h]})\n",
    "    # Add histogram DataFrame\n",
    "    img_data = pd.concat([img_data, histdf], axis=1)\n",
    "    # Continues indexing\n",
    "    imageData = imageData.append(img_data, ignore_index=True)\n",
    "print 'Processed {} images in total'.format(count)"
   ]
  },
  {
   "cell_type": "code",
   "execution_count": 315,
   "metadata": {
    "collapsed": false
   },
   "outputs": [
    {
     "name": "stdout",
     "output_type": "stream",
     "text": [
      "Processed 24 images in total\n"
     ]
    }
   ],
   "source": [
    "# New class of samples\n",
    "className = 'vegetation'\n",
    "\n",
    "# Iterate through images in directory and add image data to DataFrame\n",
    "count = 0\n",
    "for imagePath in glob.iglob(vegDir + '*.png'):\n",
    "    count += 1\n",
    "    #print 'Processing image {}'.format(count)\n",
    "    # Get image basename with extension\n",
    "    imageFn = os.path.basename(imagePath)\n",
    "    # Get image ID\n",
    "    imageID = imageFn[:-4]\n",
    "    # Read in image and get dimensions\n",
    "    image = cv2.imread(imagePath)\n",
    "    h, w = image.shape[:2]\n",
    "    # Calculate color histogram\n",
    "    hist = calc_color_hist(image, bins=16)\n",
    "    hist = np.transpose(hist)\n",
    "    # Create temporary histogram DataFrame\n",
    "    histdf = pd.DataFrame(hist)\n",
    "    colNames = list(histdf.columns.values)\n",
    "    tempNames = [str(i+1) for i in colNames]\n",
    "    newNames = ['hist' + i for i in tempNames]\n",
    "    histdf.columns = newNames\n",
    "    # Add to DataFrame\n",
    "    img_data = pd.DataFrame({'class': [className], 'imageID': [imageID],\\\n",
    "                             'filename': [imageFn], 'width': [w],\\\n",
    "                             'height': [h]})\n",
    "    # Add histogram DataFrame\n",
    "    img_data = pd.concat([img_data, histdf], axis=1)\n",
    "    # Continues indexing\n",
    "    imageData = imageData.append(img_data, ignore_index=True)\n",
    "print 'Processed {} images in total'.format(count)"
   ]
  },
  {
   "cell_type": "code",
   "execution_count": 316,
   "metadata": {
    "collapsed": true
   },
   "outputs": [],
   "source": [
    "# Drop any rows with duplicated information\n",
    "imageData.drop_duplicates(['class', 'imageID'], inplace=True)\n",
    "# Reorganize columns\n",
    "imageData = imageData[['class', 'imageID', 'filename',\\\n",
    "                       'width', 'height', 'hist1', 'hist2',\\\n",
    "                       'hist3', 'hist4', 'hist5', 'hist6',\\\n",
    "                       'hist7', 'hist8', 'hist9', 'hist10',\\\n",
    "                       'hist11', 'hist12', 'hist13', 'hist14',\\\n",
    "                       'hist15', 'hist16', 'hist17', 'hist18',\\\n",
    "                       'hist19', 'hist20', 'hist21', 'hist22',\\\n",
    "                       'hist23', 'hist24', 'hist25', 'hist26',\\\n",
    "                       'hist27', 'hist28', 'hist29', 'hist30',\\\n",
    "                       'hist31', 'hist32', 'hist33', 'hist34',\\\n",
    "                       'hist35', 'hist36', 'hist37', 'hist38',\\\n",
    "                       'hist39', 'hist40', 'hist41', 'hist42',\\\n",
    "                       'hist43', 'hist44', 'hist45', 'hist46',\\\n",
    "                       'hist47', 'hist48']]"
   ]
  },
  {
   "cell_type": "code",
   "execution_count": 317,
   "metadata": {
    "collapsed": true
   },
   "outputs": [],
   "source": [
    "# Writing image data to csv\n",
    "dataDir = '../data/'\n",
    "imageDataFn = dataDir + 'imageData.csv'\n",
    "imageData.to_csv(imageDataFn)"
   ]
  },
  {
   "cell_type": "markdown",
   "metadata": {},
   "source": [
    "The next step is to read back the data into Numpy arrays so that I can use `sklearn` tools to visualize the data in two dimensions.\n",
    "\n",
    "One other thing that still needs to be figured out is dropping rows with duplicated information. If I want to process additional images, I don't want to duplicate data."
   ]
  },
  {
   "cell_type": "code",
   "execution_count": null,
   "metadata": {
    "collapsed": true
   },
   "outputs": [],
   "source": []
  }
 ],
 "metadata": {
  "kernelspec": {
   "display_name": "Python 2",
   "language": "python",
   "name": "python2"
  },
  "language_info": {
   "codemirror_mode": {
    "name": "ipython",
    "version": 2
   },
   "file_extension": ".py",
   "mimetype": "text/x-python",
   "name": "python",
   "nbconvert_exporter": "python",
   "pygments_lexer": "ipython2",
   "version": "2.7.6"
  }
 },
 "nbformat": 4,
 "nbformat_minor": 0
}
