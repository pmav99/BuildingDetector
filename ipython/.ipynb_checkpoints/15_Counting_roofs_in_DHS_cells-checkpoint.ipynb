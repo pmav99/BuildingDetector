{
 "cells": [
  {
   "cell_type": "markdown",
   "metadata": {},
   "source": [
    "# Roof Counts in DHS Cells\n",
    "The next step of the project is to sample a bunch of images from each of the DHS cells, count the roofs in each image, create roof count features for each cell (average, min/max, histogram, etc.), and finally use these roof counts along with other features (Michael's neural net feature vector, LandScan population estimates, nightlights) to predict DHS health outcomes."
   ]
  },
  {
   "cell_type": "markdown",
   "metadata": {},
   "source": [
    "## Sampling images\n",
    "First we need to sample images from the 37,006 raw DHS locations, then map them to the 3,405 DHS cells (0.5 deg by 0.5 deg). I think the best course of action here is to sample as many images as possible first (75k/day), then store their locations, as well as the locations of the DHS cell that they correspond to, into a csv file. Whenever we pull new images, we can add to this file.\n",
    "\n",
    "We can then process the images that we have so far and save the roof counts for those images along with the original image data in a separate csv file. This way we can get new images and process images independently."
   ]
  },
  {
   "cell_type": "code",
   "execution_count": 3,
   "metadata": {
    "collapsed": false,
    "scrolled": false
   },
   "outputs": [
    {
     "name": "stdout",
     "output_type": "stream",
     "text": [
      "sampled 37006 candidate locations\n",
      "37006 locations sampled\n",
      "Saving img_5.jpg\n",
      "Saving img_0.jpg\n",
      "Saving img_8.jpg\n",
      "Saving img_6.jpg\n",
      "Saving img_3.jpg\n",
      "Saving img_7.jpg\n",
      "Saving img_2.jpg\n",
      "Saving img_1.jpg\n",
      "Saving img_4.jpg\n",
      "Saving img_9.jpg\n",
      "MEAN PIXEL RGB:  [ 115.36457778  120.43429167  116.01211806]\n"
     ]
    }
   ],
   "source": [
    "%run ~/scratch/GitHub/poverty/nightlights_cnn/get_images.py \\\n",
    "--ol ~/scratch/GitHub/BuildingDetector/images/DHS/batch1.txt \\\n",
    "-d ~/scratch/GitHub/BuildingDetector/images/DHS/batch1/ -m 10 \\\n",
    "-s 400 -t 16 -z 19 -f \\\n",
    "~/scratch/GitHub/poverty/nightlights_cnn/DHS_data/dhs_latlon.txt"
   ]
  },
  {
   "cell_type": "markdown",
   "metadata": {},
   "source": [
    "We can use the above code to pull images, but we will run it from the terminal to avoid stopping up our iPython notebook."
   ]
  },
  {
   "cell_type": "code",
   "execution_count": null,
   "metadata": {
    "collapsed": true
   },
   "outputs": [],
   "source": []
  }
 ],
 "metadata": {
  "kernelspec": {
   "display_name": "Python 2",
   "language": "python",
   "name": "python2"
  },
  "language_info": {
   "codemirror_mode": {
    "name": "ipython",
    "version": 2
   },
   "file_extension": ".py",
   "mimetype": "text/x-python",
   "name": "python",
   "nbconvert_exporter": "python",
   "pygments_lexer": "ipython2",
   "version": "2.7.10"
  }
 },
 "nbformat": 4,
 "nbformat_minor": 0
}
